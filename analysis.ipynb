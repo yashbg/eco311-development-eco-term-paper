{
 "cells": [
  {
   "cell_type": "markdown",
   "metadata": {},
   "source": [
    "# Economic Growth and its factors: A closer look"
   ]
  },
  {
   "cell_type": "markdown",
   "metadata": {},
   "source": [
    "\\- Yash Gupta (190997)"
   ]
  },
  {
   "cell_type": "code",
   "execution_count": 173,
   "metadata": {},
   "outputs": [],
   "source": [
    "# importing libraries\n",
    "import numpy as np\n",
    "import pandas as pd\n",
    "from matplotlib import pyplot as plt\n",
    "from sklearn.impute import KNNImputer\n",
    "from sklearn.preprocessing import StandardScaler\n",
    "from sklearn.linear_model import LinearRegression\n",
    "import statsmodels.api as sm"
   ]
  },
  {
   "cell_type": "markdown",
   "metadata": {},
   "source": [
    "## Data preprocessing"
   ]
  },
  {
   "cell_type": "markdown",
   "metadata": {},
   "source": [
    "### Reading the World Bank data"
   ]
  },
  {
   "cell_type": "code",
   "execution_count": 143,
   "metadata": {},
   "outputs": [
    {
     "data": {
      "text/html": [
       "<div>\n",
       "<style scoped>\n",
       "    .dataframe tbody tr th:only-of-type {\n",
       "        vertical-align: middle;\n",
       "    }\n",
       "\n",
       "    .dataframe tbody tr th {\n",
       "        vertical-align: top;\n",
       "    }\n",
       "\n",
       "    .dataframe thead th {\n",
       "        text-align: right;\n",
       "    }\n",
       "</style>\n",
       "<table border=\"1\" class=\"dataframe\">\n",
       "  <thead>\n",
       "    <tr style=\"text-align: right;\">\n",
       "      <th></th>\n",
       "      <th>year</th>\n",
       "      <th>country</th>\n",
       "      <th>gdp</th>\n",
       "      <th>growth</th>\n",
       "      <th>trade</th>\n",
       "      <th>fdi</th>\n",
       "      <th>savings</th>\n",
       "      <th>unemployment_national</th>\n",
       "      <th>unemployment_ilo</th>\n",
       "      <th>manufacturing</th>\n",
       "      <th>debt</th>\n",
       "      <th>life</th>\n",
       "    </tr>\n",
       "  </thead>\n",
       "  <tbody>\n",
       "    <tr>\n",
       "      <th>0</th>\n",
       "      <td>2017</td>\n",
       "      <td>Afghanistan</td>\n",
       "      <td>516.679862</td>\n",
       "      <td>0.064764</td>\n",
       "      <td>NaN</td>\n",
       "      <td>0.274797</td>\n",
       "      <td>NaN</td>\n",
       "      <td>11.18</td>\n",
       "      <td>11.180000</td>\n",
       "      <td>3.530422</td>\n",
       "      <td>NaN</td>\n",
       "      <td>64.130</td>\n",
       "    </tr>\n",
       "    <tr>\n",
       "      <th>1</th>\n",
       "      <td>2017</td>\n",
       "      <td>Albania</td>\n",
       "      <td>4531.019374</td>\n",
       "      <td>3.897741</td>\n",
       "      <td>78.194274</td>\n",
       "      <td>7.855471</td>\n",
       "      <td>16.529364</td>\n",
       "      <td>13.62</td>\n",
       "      <td>13.620000</td>\n",
       "      <td>6.158147</td>\n",
       "      <td>NaN</td>\n",
       "      <td>78.333</td>\n",
       "    </tr>\n",
       "    <tr>\n",
       "      <th>2</th>\n",
       "      <td>2017</td>\n",
       "      <td>Algeria</td>\n",
       "      <td>4109.698217</td>\n",
       "      <td>-0.750457</td>\n",
       "      <td>55.321403</td>\n",
       "      <td>0.723260</td>\n",
       "      <td>38.726069</td>\n",
       "      <td>13.57</td>\n",
       "      <td>10.333000</td>\n",
       "      <td>23.918923</td>\n",
       "      <td>NaN</td>\n",
       "      <td>76.499</td>\n",
       "    </tr>\n",
       "    <tr>\n",
       "      <th>3</th>\n",
       "      <td>2017</td>\n",
       "      <td>American Samoa</td>\n",
       "      <td>11003.829760</td>\n",
       "      <td>-6.783548</td>\n",
       "      <td>161.437908</td>\n",
       "      <td>NaN</td>\n",
       "      <td>NaN</td>\n",
       "      <td>NaN</td>\n",
       "      <td>NaN</td>\n",
       "      <td>10.947712</td>\n",
       "      <td>NaN</td>\n",
       "      <td>NaN</td>\n",
       "    </tr>\n",
       "    <tr>\n",
       "      <th>4</th>\n",
       "      <td>2017</td>\n",
       "      <td>Andorra</td>\n",
       "      <td>38964.904480</td>\n",
       "      <td>0.734439</td>\n",
       "      <td>NaN</td>\n",
       "      <td>NaN</td>\n",
       "      <td>NaN</td>\n",
       "      <td>NaN</td>\n",
       "      <td>NaN</td>\n",
       "      <td>NaN</td>\n",
       "      <td>NaN</td>\n",
       "      <td>NaN</td>\n",
       "    </tr>\n",
       "    <tr>\n",
       "      <th>...</th>\n",
       "      <td>...</td>\n",
       "      <td>...</td>\n",
       "      <td>...</td>\n",
       "      <td>...</td>\n",
       "      <td>...</td>\n",
       "      <td>...</td>\n",
       "      <td>...</td>\n",
       "      <td>...</td>\n",
       "      <td>...</td>\n",
       "      <td>...</td>\n",
       "      <td>...</td>\n",
       "      <td>...</td>\n",
       "    </tr>\n",
       "    <tr>\n",
       "      <th>1059</th>\n",
       "      <td>2020</td>\n",
       "      <td>Sub-Saharan Africa</td>\n",
       "      <td>1501.152921</td>\n",
       "      <td>-4.521152</td>\n",
       "      <td>44.102553</td>\n",
       "      <td>1.770330</td>\n",
       "      <td>20.868998</td>\n",
       "      <td>NaN</td>\n",
       "      <td>7.280553</td>\n",
       "      <td>11.156515</td>\n",
       "      <td>NaN</td>\n",
       "      <td>NaN</td>\n",
       "    </tr>\n",
       "    <tr>\n",
       "      <th>1060</th>\n",
       "      <td>2020</td>\n",
       "      <td>Sub-Saharan Africa (excluding high income)</td>\n",
       "      <td>1500.349997</td>\n",
       "      <td>-4.514064</td>\n",
       "      <td>43.999698</td>\n",
       "      <td>1.761116</td>\n",
       "      <td>20.871709</td>\n",
       "      <td>NaN</td>\n",
       "      <td>7.280553</td>\n",
       "      <td>11.157772</td>\n",
       "      <td>NaN</td>\n",
       "      <td>NaN</td>\n",
       "    </tr>\n",
       "    <tr>\n",
       "      <th>1061</th>\n",
       "      <td>2020</td>\n",
       "      <td>Sub-Saharan Africa (IDA &amp; IBRD countries)</td>\n",
       "      <td>1501.152921</td>\n",
       "      <td>-4.521152</td>\n",
       "      <td>44.102553</td>\n",
       "      <td>1.770330</td>\n",
       "      <td>20.868998</td>\n",
       "      <td>NaN</td>\n",
       "      <td>7.280553</td>\n",
       "      <td>11.156515</td>\n",
       "      <td>NaN</td>\n",
       "      <td>NaN</td>\n",
       "    </tr>\n",
       "    <tr>\n",
       "      <th>1062</th>\n",
       "      <td>2020</td>\n",
       "      <td>Upper middle income</td>\n",
       "      <td>9177.840437</td>\n",
       "      <td>-1.172948</td>\n",
       "      <td>44.108739</td>\n",
       "      <td>1.514864</td>\n",
       "      <td>33.862144</td>\n",
       "      <td>NaN</td>\n",
       "      <td>6.765703</td>\n",
       "      <td>21.957038</td>\n",
       "      <td>NaN</td>\n",
       "      <td>NaN</td>\n",
       "    </tr>\n",
       "    <tr>\n",
       "      <th>1063</th>\n",
       "      <td>2020</td>\n",
       "      <td>World</td>\n",
       "      <td>10918.722830</td>\n",
       "      <td>-4.268432</td>\n",
       "      <td>51.618600</td>\n",
       "      <td>1.410483</td>\n",
       "      <td>25.961899</td>\n",
       "      <td>NaN</td>\n",
       "      <td>6.573004</td>\n",
       "      <td>15.927996</td>\n",
       "      <td>NaN</td>\n",
       "      <td>NaN</td>\n",
       "    </tr>\n",
       "  </tbody>\n",
       "</table>\n",
       "<p>1064 rows × 12 columns</p>\n",
       "</div>"
      ],
      "text/plain": [
       "      year                                     country           gdp  \\\n",
       "0     2017                                 Afghanistan    516.679862   \n",
       "1     2017                                     Albania   4531.019374   \n",
       "2     2017                                     Algeria   4109.698217   \n",
       "3     2017                              American Samoa  11003.829760   \n",
       "4     2017                                     Andorra  38964.904480   \n",
       "...    ...                                         ...           ...   \n",
       "1059  2020                          Sub-Saharan Africa   1501.152921   \n",
       "1060  2020  Sub-Saharan Africa (excluding high income)   1500.349997   \n",
       "1061  2020   Sub-Saharan Africa (IDA & IBRD countries)   1501.152921   \n",
       "1062  2020                         Upper middle income   9177.840437   \n",
       "1063  2020                                       World  10918.722830   \n",
       "\n",
       "        growth       trade       fdi    savings  unemployment_national  \\\n",
       "0     0.064764         NaN  0.274797        NaN                  11.18   \n",
       "1     3.897741   78.194274  7.855471  16.529364                  13.62   \n",
       "2    -0.750457   55.321403  0.723260  38.726069                  13.57   \n",
       "3    -6.783548  161.437908       NaN        NaN                    NaN   \n",
       "4     0.734439         NaN       NaN        NaN                    NaN   \n",
       "...        ...         ...       ...        ...                    ...   \n",
       "1059 -4.521152   44.102553  1.770330  20.868998                    NaN   \n",
       "1060 -4.514064   43.999698  1.761116  20.871709                    NaN   \n",
       "1061 -4.521152   44.102553  1.770330  20.868998                    NaN   \n",
       "1062 -1.172948   44.108739  1.514864  33.862144                    NaN   \n",
       "1063 -4.268432   51.618600  1.410483  25.961899                    NaN   \n",
       "\n",
       "      unemployment_ilo  manufacturing  debt    life  \n",
       "0            11.180000       3.530422   NaN  64.130  \n",
       "1            13.620000       6.158147   NaN  78.333  \n",
       "2            10.333000      23.918923   NaN  76.499  \n",
       "3                  NaN      10.947712   NaN     NaN  \n",
       "4                  NaN            NaN   NaN     NaN  \n",
       "...                ...            ...   ...     ...  \n",
       "1059          7.280553      11.156515   NaN     NaN  \n",
       "1060          7.280553      11.157772   NaN     NaN  \n",
       "1061          7.280553      11.156515   NaN     NaN  \n",
       "1062          6.765703      21.957038   NaN     NaN  \n",
       "1063          6.573004      15.927996   NaN     NaN  \n",
       "\n",
       "[1064 rows x 12 columns]"
      ]
     },
     "execution_count": 143,
     "metadata": {},
     "output_type": "execute_result"
    }
   ],
   "source": [
    "cols = ['year', 'country', 'gdp', 'growth', 'trade', 'fdi', 'savings', 'unemployment_national', 'unemployment_ilo', 'manufacturing', 'debt', 'life']\n",
    "data = pd.read_csv('data.csv')\n",
    "data.columns = cols\n",
    "data"
   ]
  },
  {
   "cell_type": "code",
   "execution_count": 144,
   "metadata": {},
   "outputs": [],
   "source": [
    "countries = [\"Afghanistan\", \"Angola\", \"Albania\", \"Argentina\", \"Armenia\", \"Australia\", \"Austria\", \"Azerbaijan\", \"Belgium\", \"Benin\", \"Burkina Faso\", \"Bangladesh\", \"Bulgaria\", \"Bahrain\", \"Bosnia and Herzegovina\", \"Belarus\", \"Belize\", \"Bolivia\", \"Brazil\", \"Brunei Darussalam\", \"Bhutan\", \"Botswana\", \"Switzerland\", \"Chile\", \"China\", \"Cote d'Ivoire\", \"Cameroon\", \"Colombia\", \"Cabo Verde\", \"Costa Rica\", \"Cyprus\", \"Czech Republic\", \"Germany\", \"Djibouti\", \"Denmark\", \"Dominican Republic\", \"Algeria\", \"Ecuador\", \"Egypt, Arab Rep.\", \"Spain\", \"Estonia\", \"Ethiopia\", \"Finland\", \"France\", \"United Kingdom\", \"Georgia\", \"Ghana\", \"Guinea\", \"Guinea-Bissau\", \"Greece\", \"Guatemala\", \"Honduras\", \"Croatia\", \"Hungary\", \"Indonesia\", \"India\", \"Ireland\", \"Israel\", \"Italy\", \"Jamaica\", \"Jordan\", \"Japan\", \"Kazakhstan\", \"Kenya\", \"Kyrgyz Republic\", \"Cambodia\", \"Korea, Rep.\", \"Kuwait\", \"Lebanon\", \"Liberia\", \"Sri Lanka\", \"Lithuania\", \"Luxembourg\", \"Latvia\", \"Morocco\", \"Moldova\", \"Mexico\", \"Malta\", \"Myanmar\", \"Montenegro\", \"Mongolia\", \"Mozambique\", \"Mauritius\", \"Malawi\", \"Malaysia\", \"Namibia\", \"Niger\", \"Nigeria\", \"Nicaragua\", \"Netherlands\", \"Norway\", \"Nepal\", \"Oman\", \"Pakistan\", \"Panama\", \"Peru\", \"Philippines\", \"Portugal\", \"Paraguay\", \"Qatar\", \"Romania\", \"Russian Federation\", \"Rwanda\", \"Saudi Arabia\", \"Senegal\", \"Singapore\", \"Sierra Leone\", \"El Salvador\", \"Slovak Republic\", \"Slovenia\", \"Sweden\", \"Togo\", \"Thailand\", \"Tajikistan\", \"Timor-Leste\", \"Tunisia\", \"Turkey\", \"Tanzania\", \"Uganda\", \"Ukraine\", \"Uruguay\", \"United States\", \"Vietnam\", \"South Africa\", \"Zimbabwe\"]"
   ]
  },
  {
   "cell_type": "code",
   "execution_count": 145,
   "metadata": {},
   "outputs": [
    {
     "data": {
      "text/plain": [
       "125"
      ]
     },
     "execution_count": 145,
     "metadata": {},
     "output_type": "execute_result"
    }
   ],
   "source": [
    "len(countries)"
   ]
  },
  {
   "cell_type": "code",
   "execution_count": 146,
   "metadata": {},
   "outputs": [
    {
     "data": {
      "text/html": [
       "<div>\n",
       "<style scoped>\n",
       "    .dataframe tbody tr th:only-of-type {\n",
       "        vertical-align: middle;\n",
       "    }\n",
       "\n",
       "    .dataframe tbody tr th {\n",
       "        vertical-align: top;\n",
       "    }\n",
       "\n",
       "    .dataframe thead th {\n",
       "        text-align: right;\n",
       "    }\n",
       "</style>\n",
       "<table border=\"1\" class=\"dataframe\">\n",
       "  <thead>\n",
       "    <tr style=\"text-align: right;\">\n",
       "      <th></th>\n",
       "      <th>year</th>\n",
       "      <th>country</th>\n",
       "      <th>gdp</th>\n",
       "      <th>growth</th>\n",
       "      <th>trade</th>\n",
       "      <th>fdi</th>\n",
       "      <th>savings</th>\n",
       "      <th>unemployment_national</th>\n",
       "      <th>unemployment_ilo</th>\n",
       "      <th>manufacturing</th>\n",
       "      <th>debt</th>\n",
       "      <th>life</th>\n",
       "    </tr>\n",
       "  </thead>\n",
       "  <tbody>\n",
       "    <tr>\n",
       "      <th>0</th>\n",
       "      <td>2017</td>\n",
       "      <td>Afghanistan</td>\n",
       "      <td>516.679862</td>\n",
       "      <td>0.064764</td>\n",
       "      <td>NaN</td>\n",
       "      <td>0.274797</td>\n",
       "      <td>NaN</td>\n",
       "      <td>11.18</td>\n",
       "      <td>11.180</td>\n",
       "      <td>3.530422</td>\n",
       "      <td>NaN</td>\n",
       "      <td>64.130</td>\n",
       "    </tr>\n",
       "    <tr>\n",
       "      <th>1</th>\n",
       "      <td>2017</td>\n",
       "      <td>Albania</td>\n",
       "      <td>4531.019374</td>\n",
       "      <td>3.897741</td>\n",
       "      <td>78.194274</td>\n",
       "      <td>7.855471</td>\n",
       "      <td>16.529364</td>\n",
       "      <td>13.62</td>\n",
       "      <td>13.620</td>\n",
       "      <td>6.158147</td>\n",
       "      <td>NaN</td>\n",
       "      <td>78.333</td>\n",
       "    </tr>\n",
       "    <tr>\n",
       "      <th>2</th>\n",
       "      <td>2017</td>\n",
       "      <td>Algeria</td>\n",
       "      <td>4109.698217</td>\n",
       "      <td>-0.750457</td>\n",
       "      <td>55.321403</td>\n",
       "      <td>0.723260</td>\n",
       "      <td>38.726069</td>\n",
       "      <td>13.57</td>\n",
       "      <td>10.333</td>\n",
       "      <td>23.918923</td>\n",
       "      <td>NaN</td>\n",
       "      <td>76.499</td>\n",
       "    </tr>\n",
       "    <tr>\n",
       "      <th>3</th>\n",
       "      <td>2017</td>\n",
       "      <td>Angola</td>\n",
       "      <td>4095.810057</td>\n",
       "      <td>-3.409983</td>\n",
       "      <td>52.256821</td>\n",
       "      <td>-6.057209</td>\n",
       "      <td>23.351946</td>\n",
       "      <td>NaN</td>\n",
       "      <td>7.408</td>\n",
       "      <td>6.580550</td>\n",
       "      <td>NaN</td>\n",
       "      <td>60.379</td>\n",
       "    </tr>\n",
       "    <tr>\n",
       "      <th>4</th>\n",
       "      <td>2017</td>\n",
       "      <td>Argentina</td>\n",
       "      <td>14613.041820</td>\n",
       "      <td>1.757648</td>\n",
       "      <td>25.289601</td>\n",
       "      <td>1.789364</td>\n",
       "      <td>13.076667</td>\n",
       "      <td>8.35</td>\n",
       "      <td>8.350</td>\n",
       "      <td>12.835168</td>\n",
       "      <td>NaN</td>\n",
       "      <td>76.372</td>\n",
       "    </tr>\n",
       "    <tr>\n",
       "      <th>...</th>\n",
       "      <td>...</td>\n",
       "      <td>...</td>\n",
       "      <td>...</td>\n",
       "      <td>...</td>\n",
       "      <td>...</td>\n",
       "      <td>...</td>\n",
       "      <td>...</td>\n",
       "      <td>...</td>\n",
       "      <td>...</td>\n",
       "      <td>...</td>\n",
       "      <td>...</td>\n",
       "      <td>...</td>\n",
       "    </tr>\n",
       "    <tr>\n",
       "      <th>495</th>\n",
       "      <td>2020</td>\n",
       "      <td>United Kingdom</td>\n",
       "      <td>41059.168810</td>\n",
       "      <td>-9.906993</td>\n",
       "      <td>56.108854</td>\n",
       "      <td>1.125402</td>\n",
       "      <td>14.025618</td>\n",
       "      <td>NaN</td>\n",
       "      <td>4.472</td>\n",
       "      <td>8.648937</td>\n",
       "      <td>NaN</td>\n",
       "      <td>NaN</td>\n",
       "    </tr>\n",
       "    <tr>\n",
       "      <th>496</th>\n",
       "      <td>2020</td>\n",
       "      <td>United States</td>\n",
       "      <td>63593.443620</td>\n",
       "      <td>-3.742962</td>\n",
       "      <td>23.376127</td>\n",
       "      <td>1.008436</td>\n",
       "      <td>19.248820</td>\n",
       "      <td>8.05</td>\n",
       "      <td>8.050</td>\n",
       "      <td>NaN</td>\n",
       "      <td>NaN</td>\n",
       "      <td>NaN</td>\n",
       "    </tr>\n",
       "    <tr>\n",
       "      <th>497</th>\n",
       "      <td>2020</td>\n",
       "      <td>Uruguay</td>\n",
       "      <td>15438.411670</td>\n",
       "      <td>-6.183824</td>\n",
       "      <td>46.368308</td>\n",
       "      <td>0.564104</td>\n",
       "      <td>16.361856</td>\n",
       "      <td>10.48</td>\n",
       "      <td>10.350</td>\n",
       "      <td>10.296801</td>\n",
       "      <td>NaN</td>\n",
       "      <td>NaN</td>\n",
       "    </tr>\n",
       "    <tr>\n",
       "      <th>498</th>\n",
       "      <td>2020</td>\n",
       "      <td>Vietnam</td>\n",
       "      <td>2785.724161</td>\n",
       "      <td>1.979231</td>\n",
       "      <td>208.254076</td>\n",
       "      <td>5.826852</td>\n",
       "      <td>23.160451</td>\n",
       "      <td>2.39</td>\n",
       "      <td>2.390</td>\n",
       "      <td>16.696135</td>\n",
       "      <td>NaN</td>\n",
       "      <td>NaN</td>\n",
       "    </tr>\n",
       "    <tr>\n",
       "      <th>499</th>\n",
       "      <td>2020</td>\n",
       "      <td>Zimbabwe</td>\n",
       "      <td>1214.509820</td>\n",
       "      <td>-7.620388</td>\n",
       "      <td>76.001938</td>\n",
       "      <td>0.832965</td>\n",
       "      <td>12.456270</td>\n",
       "      <td>NaN</td>\n",
       "      <td>5.351</td>\n",
       "      <td>18.430002</td>\n",
       "      <td>NaN</td>\n",
       "      <td>NaN</td>\n",
       "    </tr>\n",
       "  </tbody>\n",
       "</table>\n",
       "<p>500 rows × 12 columns</p>\n",
       "</div>"
      ],
      "text/plain": [
       "     year         country           gdp    growth       trade       fdi  \\\n",
       "0    2017     Afghanistan    516.679862  0.064764         NaN  0.274797   \n",
       "1    2017         Albania   4531.019374  3.897741   78.194274  7.855471   \n",
       "2    2017         Algeria   4109.698217 -0.750457   55.321403  0.723260   \n",
       "3    2017          Angola   4095.810057 -3.409983   52.256821 -6.057209   \n",
       "4    2017       Argentina  14613.041820  1.757648   25.289601  1.789364   \n",
       "..    ...             ...           ...       ...         ...       ...   \n",
       "495  2020  United Kingdom  41059.168810 -9.906993   56.108854  1.125402   \n",
       "496  2020   United States  63593.443620 -3.742962   23.376127  1.008436   \n",
       "497  2020         Uruguay  15438.411670 -6.183824   46.368308  0.564104   \n",
       "498  2020         Vietnam   2785.724161  1.979231  208.254076  5.826852   \n",
       "499  2020        Zimbabwe   1214.509820 -7.620388   76.001938  0.832965   \n",
       "\n",
       "       savings  unemployment_national  unemployment_ilo  manufacturing  debt  \\\n",
       "0          NaN                  11.18            11.180       3.530422   NaN   \n",
       "1    16.529364                  13.62            13.620       6.158147   NaN   \n",
       "2    38.726069                  13.57            10.333      23.918923   NaN   \n",
       "3    23.351946                    NaN             7.408       6.580550   NaN   \n",
       "4    13.076667                   8.35             8.350      12.835168   NaN   \n",
       "..         ...                    ...               ...            ...   ...   \n",
       "495  14.025618                    NaN             4.472       8.648937   NaN   \n",
       "496  19.248820                   8.05             8.050            NaN   NaN   \n",
       "497  16.361856                  10.48            10.350      10.296801   NaN   \n",
       "498  23.160451                   2.39             2.390      16.696135   NaN   \n",
       "499  12.456270                    NaN             5.351      18.430002   NaN   \n",
       "\n",
       "       life  \n",
       "0    64.130  \n",
       "1    78.333  \n",
       "2    76.499  \n",
       "3    60.379  \n",
       "4    76.372  \n",
       "..      ...  \n",
       "495     NaN  \n",
       "496     NaN  \n",
       "497     NaN  \n",
       "498     NaN  \n",
       "499     NaN  \n",
       "\n",
       "[500 rows x 12 columns]"
      ]
     },
     "execution_count": 146,
     "metadata": {},
     "output_type": "execute_result"
    }
   ],
   "source": [
    "data = data[data.country.isin(countries)].reset_index().drop('index', axis=1)\n",
    "data"
   ]
  },
  {
   "cell_type": "code",
   "execution_count": 147,
   "metadata": {},
   "outputs": [
    {
     "data": {
      "text/plain": [
       "debt                     99.8\n",
       "unemployment_national    25.8\n",
       "life                     25.0\n",
       "savings                   5.8\n",
       "trade                     3.6\n",
       "manufacturing             3.2\n",
       "year                      0.0\n",
       "country                   0.0\n",
       "gdp                       0.0\n",
       "growth                    0.0\n",
       "fdi                       0.0\n",
       "unemployment_ilo          0.0\n",
       "dtype: float64"
      ]
     },
     "execution_count": 147,
     "metadata": {},
     "output_type": "execute_result"
    }
   ],
   "source": [
    "data.isna().sum().sort_values(ascending=False) / len(data) * 100"
   ]
  },
  {
   "cell_type": "code",
   "execution_count": 148,
   "metadata": {},
   "outputs": [
    {
     "data": {
      "text/plain": [
       "debt                     100.0\n",
       "unemployment_national     24.0\n",
       "savings                    4.8\n",
       "trade                      3.2\n",
       "manufacturing              2.4\n",
       "year                       0.0\n",
       "country                    0.0\n",
       "gdp                        0.0\n",
       "growth                     0.0\n",
       "fdi                        0.0\n",
       "unemployment_ilo           0.0\n",
       "life                       0.0\n",
       "dtype: float64"
      ]
     },
     "execution_count": 148,
     "metadata": {},
     "output_type": "execute_result"
    }
   ],
   "source": [
    "data_2019 = data[data.year == 2019].reset_index().drop('index', axis=1)\n",
    "data_2019.isna().sum().sort_values(ascending=False) / len(data_2019) * 100"
   ]
  },
  {
   "cell_type": "code",
   "execution_count": 149,
   "metadata": {},
   "outputs": [
    {
     "data": {
      "text/plain": [
       "debt                     100.0\n",
       "unemployment_national     25.6\n",
       "trade                      2.4\n",
       "savings                    2.4\n",
       "manufacturing              1.6\n",
       "year                       0.0\n",
       "country                    0.0\n",
       "gdp                        0.0\n",
       "growth                     0.0\n",
       "fdi                        0.0\n",
       "unemployment_ilo           0.0\n",
       "life                       0.0\n",
       "dtype: float64"
      ]
     },
     "execution_count": 149,
     "metadata": {},
     "output_type": "execute_result"
    }
   ],
   "source": [
    "data_2018 = data[data.year == 2018].reset_index().drop('index', axis=1)\n",
    "data_2018.isna().sum().sort_values(ascending=False) / len(data_2018) * 100"
   ]
  },
  {
   "cell_type": "code",
   "execution_count": 150,
   "metadata": {},
   "outputs": [
    {
     "data": {
      "text/html": [
       "<div>\n",
       "<style scoped>\n",
       "    .dataframe tbody tr th:only-of-type {\n",
       "        vertical-align: middle;\n",
       "    }\n",
       "\n",
       "    .dataframe tbody tr th {\n",
       "        vertical-align: top;\n",
       "    }\n",
       "\n",
       "    .dataframe thead th {\n",
       "        text-align: right;\n",
       "    }\n",
       "</style>\n",
       "<table border=\"1\" class=\"dataframe\">\n",
       "  <thead>\n",
       "    <tr style=\"text-align: right;\">\n",
       "      <th></th>\n",
       "      <th>year</th>\n",
       "      <th>country</th>\n",
       "      <th>gdp</th>\n",
       "      <th>growth</th>\n",
       "      <th>trade</th>\n",
       "      <th>fdi</th>\n",
       "      <th>savings</th>\n",
       "      <th>unemployment_ilo</th>\n",
       "      <th>manufacturing</th>\n",
       "      <th>life</th>\n",
       "    </tr>\n",
       "  </thead>\n",
       "  <tbody>\n",
       "    <tr>\n",
       "      <th>0</th>\n",
       "      <td>2017</td>\n",
       "      <td>Afghanistan</td>\n",
       "      <td>516.679862</td>\n",
       "      <td>0.064764</td>\n",
       "      <td>NaN</td>\n",
       "      <td>0.274797</td>\n",
       "      <td>NaN</td>\n",
       "      <td>11.180</td>\n",
       "      <td>3.530422</td>\n",
       "      <td>64.130</td>\n",
       "    </tr>\n",
       "    <tr>\n",
       "      <th>1</th>\n",
       "      <td>2017</td>\n",
       "      <td>Albania</td>\n",
       "      <td>4531.019374</td>\n",
       "      <td>3.897741</td>\n",
       "      <td>78.194274</td>\n",
       "      <td>7.855471</td>\n",
       "      <td>16.529364</td>\n",
       "      <td>13.620</td>\n",
       "      <td>6.158147</td>\n",
       "      <td>78.333</td>\n",
       "    </tr>\n",
       "    <tr>\n",
       "      <th>2</th>\n",
       "      <td>2017</td>\n",
       "      <td>Algeria</td>\n",
       "      <td>4109.698217</td>\n",
       "      <td>-0.750457</td>\n",
       "      <td>55.321403</td>\n",
       "      <td>0.723260</td>\n",
       "      <td>38.726069</td>\n",
       "      <td>10.333</td>\n",
       "      <td>23.918923</td>\n",
       "      <td>76.499</td>\n",
       "    </tr>\n",
       "    <tr>\n",
       "      <th>3</th>\n",
       "      <td>2017</td>\n",
       "      <td>Angola</td>\n",
       "      <td>4095.810057</td>\n",
       "      <td>-3.409983</td>\n",
       "      <td>52.256821</td>\n",
       "      <td>-6.057209</td>\n",
       "      <td>23.351946</td>\n",
       "      <td>7.408</td>\n",
       "      <td>6.580550</td>\n",
       "      <td>60.379</td>\n",
       "    </tr>\n",
       "    <tr>\n",
       "      <th>4</th>\n",
       "      <td>2017</td>\n",
       "      <td>Argentina</td>\n",
       "      <td>14613.041820</td>\n",
       "      <td>1.757648</td>\n",
       "      <td>25.289601</td>\n",
       "      <td>1.789364</td>\n",
       "      <td>13.076667</td>\n",
       "      <td>8.350</td>\n",
       "      <td>12.835168</td>\n",
       "      <td>76.372</td>\n",
       "    </tr>\n",
       "    <tr>\n",
       "      <th>...</th>\n",
       "      <td>...</td>\n",
       "      <td>...</td>\n",
       "      <td>...</td>\n",
       "      <td>...</td>\n",
       "      <td>...</td>\n",
       "      <td>...</td>\n",
       "      <td>...</td>\n",
       "      <td>...</td>\n",
       "      <td>...</td>\n",
       "      <td>...</td>\n",
       "    </tr>\n",
       "    <tr>\n",
       "      <th>495</th>\n",
       "      <td>2020</td>\n",
       "      <td>United Kingdom</td>\n",
       "      <td>41059.168810</td>\n",
       "      <td>-9.906993</td>\n",
       "      <td>56.108854</td>\n",
       "      <td>1.125402</td>\n",
       "      <td>14.025618</td>\n",
       "      <td>4.472</td>\n",
       "      <td>8.648937</td>\n",
       "      <td>NaN</td>\n",
       "    </tr>\n",
       "    <tr>\n",
       "      <th>496</th>\n",
       "      <td>2020</td>\n",
       "      <td>United States</td>\n",
       "      <td>63593.443620</td>\n",
       "      <td>-3.742962</td>\n",
       "      <td>23.376127</td>\n",
       "      <td>1.008436</td>\n",
       "      <td>19.248820</td>\n",
       "      <td>8.050</td>\n",
       "      <td>NaN</td>\n",
       "      <td>NaN</td>\n",
       "    </tr>\n",
       "    <tr>\n",
       "      <th>497</th>\n",
       "      <td>2020</td>\n",
       "      <td>Uruguay</td>\n",
       "      <td>15438.411670</td>\n",
       "      <td>-6.183824</td>\n",
       "      <td>46.368308</td>\n",
       "      <td>0.564104</td>\n",
       "      <td>16.361856</td>\n",
       "      <td>10.350</td>\n",
       "      <td>10.296801</td>\n",
       "      <td>NaN</td>\n",
       "    </tr>\n",
       "    <tr>\n",
       "      <th>498</th>\n",
       "      <td>2020</td>\n",
       "      <td>Vietnam</td>\n",
       "      <td>2785.724161</td>\n",
       "      <td>1.979231</td>\n",
       "      <td>208.254076</td>\n",
       "      <td>5.826852</td>\n",
       "      <td>23.160451</td>\n",
       "      <td>2.390</td>\n",
       "      <td>16.696135</td>\n",
       "      <td>NaN</td>\n",
       "    </tr>\n",
       "    <tr>\n",
       "      <th>499</th>\n",
       "      <td>2020</td>\n",
       "      <td>Zimbabwe</td>\n",
       "      <td>1214.509820</td>\n",
       "      <td>-7.620388</td>\n",
       "      <td>76.001938</td>\n",
       "      <td>0.832965</td>\n",
       "      <td>12.456270</td>\n",
       "      <td>5.351</td>\n",
       "      <td>18.430002</td>\n",
       "      <td>NaN</td>\n",
       "    </tr>\n",
       "  </tbody>\n",
       "</table>\n",
       "<p>500 rows × 10 columns</p>\n",
       "</div>"
      ],
      "text/plain": [
       "     year         country           gdp    growth       trade       fdi  \\\n",
       "0    2017     Afghanistan    516.679862  0.064764         NaN  0.274797   \n",
       "1    2017         Albania   4531.019374  3.897741   78.194274  7.855471   \n",
       "2    2017         Algeria   4109.698217 -0.750457   55.321403  0.723260   \n",
       "3    2017          Angola   4095.810057 -3.409983   52.256821 -6.057209   \n",
       "4    2017       Argentina  14613.041820  1.757648   25.289601  1.789364   \n",
       "..    ...             ...           ...       ...         ...       ...   \n",
       "495  2020  United Kingdom  41059.168810 -9.906993   56.108854  1.125402   \n",
       "496  2020   United States  63593.443620 -3.742962   23.376127  1.008436   \n",
       "497  2020         Uruguay  15438.411670 -6.183824   46.368308  0.564104   \n",
       "498  2020         Vietnam   2785.724161  1.979231  208.254076  5.826852   \n",
       "499  2020        Zimbabwe   1214.509820 -7.620388   76.001938  0.832965   \n",
       "\n",
       "       savings  unemployment_ilo  manufacturing    life  \n",
       "0          NaN            11.180       3.530422  64.130  \n",
       "1    16.529364            13.620       6.158147  78.333  \n",
       "2    38.726069            10.333      23.918923  76.499  \n",
       "3    23.351946             7.408       6.580550  60.379  \n",
       "4    13.076667             8.350      12.835168  76.372  \n",
       "..         ...               ...            ...     ...  \n",
       "495  14.025618             4.472       8.648937     NaN  \n",
       "496  19.248820             8.050            NaN     NaN  \n",
       "497  16.361856            10.350      10.296801     NaN  \n",
       "498  23.160451             2.390      16.696135     NaN  \n",
       "499  12.456270             5.351      18.430002     NaN  \n",
       "\n",
       "[500 rows x 10 columns]"
      ]
     },
     "execution_count": 150,
     "metadata": {},
     "output_type": "execute_result"
    }
   ],
   "source": [
    "data.drop(['debt', 'unemployment_national'], axis=1, inplace=True)\n",
    "data"
   ]
  },
  {
   "cell_type": "code",
   "execution_count": 151,
   "metadata": {},
   "outputs": [
    {
     "data": {
      "text/html": [
       "<div>\n",
       "<style scoped>\n",
       "    .dataframe tbody tr th:only-of-type {\n",
       "        vertical-align: middle;\n",
       "    }\n",
       "\n",
       "    .dataframe tbody tr th {\n",
       "        vertical-align: top;\n",
       "    }\n",
       "\n",
       "    .dataframe thead th {\n",
       "        text-align: right;\n",
       "    }\n",
       "</style>\n",
       "<table border=\"1\" class=\"dataframe\">\n",
       "  <thead>\n",
       "    <tr style=\"text-align: right;\">\n",
       "      <th></th>\n",
       "      <th>country</th>\n",
       "      <th>gdp</th>\n",
       "      <th>growth</th>\n",
       "      <th>trade</th>\n",
       "      <th>fdi</th>\n",
       "      <th>savings</th>\n",
       "      <th>unemployment_ilo</th>\n",
       "      <th>manufacturing</th>\n",
       "      <th>life</th>\n",
       "    </tr>\n",
       "  </thead>\n",
       "  <tbody>\n",
       "    <tr>\n",
       "      <th>0</th>\n",
       "      <td>Afghanistan</td>\n",
       "      <td>485.668419</td>\n",
       "      <td>-1.194900</td>\n",
       "      <td>NaN</td>\n",
       "      <td>0.661572</td>\n",
       "      <td>NaN</td>\n",
       "      <td>11.152</td>\n",
       "      <td>6.160177</td>\n",
       "      <td>64.486000</td>\n",
       "    </tr>\n",
       "    <tr>\n",
       "      <th>1</th>\n",
       "      <td>Albania</td>\n",
       "      <td>5287.663694</td>\n",
       "      <td>4.276326</td>\n",
       "      <td>76.808118</td>\n",
       "      <td>7.946351</td>\n",
       "      <td>16.547233</td>\n",
       "      <td>12.300</td>\n",
       "      <td>6.133262</td>\n",
       "      <td>78.458000</td>\n",
       "    </tr>\n",
       "    <tr>\n",
       "      <th>2</th>\n",
       "      <td>Algeria</td>\n",
       "      <td>4142.018558</td>\n",
       "      <td>-0.909246</td>\n",
       "      <td>58.065492</td>\n",
       "      <td>0.838207</td>\n",
       "      <td>40.205962</td>\n",
       "      <td>10.420</td>\n",
       "      <td>26.549953</td>\n",
       "      <td>76.693000</td>\n",
       "    </tr>\n",
       "    <tr>\n",
       "      <th>3</th>\n",
       "      <td>Angola</td>\n",
       "      <td>3289.643995</td>\n",
       "      <td>-5.162112</td>\n",
       "      <td>66.378111</td>\n",
       "      <td>-6.369877</td>\n",
       "      <td>25.173194</td>\n",
       "      <td>7.421</td>\n",
       "      <td>6.059469</td>\n",
       "      <td>60.782000</td>\n",
       "    </tr>\n",
       "    <tr>\n",
       "      <th>4</th>\n",
       "      <td>Argentina</td>\n",
       "      <td>11795.159390</td>\n",
       "      <td>-3.601610</td>\n",
       "      <td>30.762536</td>\n",
       "      <td>2.232532</td>\n",
       "      <td>11.405160</td>\n",
       "      <td>9.220</td>\n",
       "      <td>14.060143</td>\n",
       "      <td>76.520000</td>\n",
       "    </tr>\n",
       "    <tr>\n",
       "      <th>...</th>\n",
       "      <td>...</td>\n",
       "      <td>...</td>\n",
       "      <td>...</td>\n",
       "      <td>...</td>\n",
       "      <td>...</td>\n",
       "      <td>...</td>\n",
       "      <td>...</td>\n",
       "      <td>...</td>\n",
       "      <td>...</td>\n",
       "    </tr>\n",
       "    <tr>\n",
       "      <th>120</th>\n",
       "      <td>United Kingdom</td>\n",
       "      <td>43646.951970</td>\n",
       "      <td>1.036855</td>\n",
       "      <td>62.314223</td>\n",
       "      <td>-0.863745</td>\n",
       "      <td>14.118801</td>\n",
       "      <td>4.000</td>\n",
       "      <td>8.846982</td>\n",
       "      <td>81.256098</td>\n",
       "    </tr>\n",
       "    <tr>\n",
       "      <th>121</th>\n",
       "      <td>United States</td>\n",
       "      <td>63064.418410</td>\n",
       "      <td>2.455679</td>\n",
       "      <td>27.475481</td>\n",
       "      <td>1.039765</td>\n",
       "      <td>19.636325</td>\n",
       "      <td>3.900</td>\n",
       "      <td>11.197704</td>\n",
       "      <td>78.639024</td>\n",
       "    </tr>\n",
       "    <tr>\n",
       "      <th>122</th>\n",
       "      <td>Uruguay</td>\n",
       "      <td>18703.860290</td>\n",
       "      <td>0.109558</td>\n",
       "      <td>47.825350</td>\n",
       "      <td>2.829091</td>\n",
       "      <td>14.410050</td>\n",
       "      <td>8.340</td>\n",
       "      <td>10.840929</td>\n",
       "      <td>77.770000</td>\n",
       "    </tr>\n",
       "    <tr>\n",
       "      <th>123</th>\n",
       "      <td>Vietnam</td>\n",
       "      <td>2566.447487</td>\n",
       "      <td>6.016398</td>\n",
       "      <td>208.306666</td>\n",
       "      <td>6.321017</td>\n",
       "      <td>23.118204</td>\n",
       "      <td>1.160</td>\n",
       "      <td>15.996516</td>\n",
       "      <td>75.317000</td>\n",
       "    </tr>\n",
       "    <tr>\n",
       "      <th>124</th>\n",
       "      <td>Zimbabwe</td>\n",
       "      <td>1254.642265</td>\n",
       "      <td>3.356166</td>\n",
       "      <td>69.447021</td>\n",
       "      <td>3.962704</td>\n",
       "      <td>2.358411</td>\n",
       "      <td>4.796</td>\n",
       "      <td>7.721094</td>\n",
       "      <td>61.195000</td>\n",
       "    </tr>\n",
       "  </tbody>\n",
       "</table>\n",
       "<p>125 rows × 9 columns</p>\n",
       "</div>"
      ],
      "text/plain": [
       "            country           gdp    growth       trade       fdi    savings  \\\n",
       "0       Afghanistan    485.668419 -1.194900         NaN  0.661572        NaN   \n",
       "1           Albania   5287.663694  4.276326   76.808118  7.946351  16.547233   \n",
       "2           Algeria   4142.018558 -0.909246   58.065492  0.838207  40.205962   \n",
       "3            Angola   3289.643995 -5.162112   66.378111 -6.369877  25.173194   \n",
       "4         Argentina  11795.159390 -3.601610   30.762536  2.232532  11.405160   \n",
       "..              ...           ...       ...         ...       ...        ...   \n",
       "120  United Kingdom  43646.951970  1.036855   62.314223 -0.863745  14.118801   \n",
       "121   United States  63064.418410  2.455679   27.475481  1.039765  19.636325   \n",
       "122         Uruguay  18703.860290  0.109558   47.825350  2.829091  14.410050   \n",
       "123         Vietnam   2566.447487  6.016398  208.306666  6.321017  23.118204   \n",
       "124        Zimbabwe   1254.642265  3.356166   69.447021  3.962704   2.358411   \n",
       "\n",
       "     unemployment_ilo  manufacturing       life  \n",
       "0              11.152       6.160177  64.486000  \n",
       "1              12.300       6.133262  78.458000  \n",
       "2              10.420      26.549953  76.693000  \n",
       "3               7.421       6.059469  60.782000  \n",
       "4               9.220      14.060143  76.520000  \n",
       "..                ...            ...        ...  \n",
       "120             4.000       8.846982  81.256098  \n",
       "121             3.900      11.197704  78.639024  \n",
       "122             8.340      10.840929  77.770000  \n",
       "123             1.160      15.996516  75.317000  \n",
       "124             4.796       7.721094  61.195000  \n",
       "\n",
       "[125 rows x 9 columns]"
      ]
     },
     "execution_count": 151,
     "metadata": {},
     "output_type": "execute_result"
    }
   ],
   "source": [
    "data = data[data.year == 2018].reset_index().drop(['index', 'year'], axis=1)\n",
    "data"
   ]
  },
  {
   "cell_type": "markdown",
   "metadata": {},
   "source": [
    "### Analysing missing values"
   ]
  },
  {
   "cell_type": "code",
   "execution_count": 152,
   "metadata": {},
   "outputs": [
    {
     "data": {
      "text/plain": [
       "trade               2.4\n",
       "savings             2.4\n",
       "manufacturing       1.6\n",
       "country             0.0\n",
       "gdp                 0.0\n",
       "growth              0.0\n",
       "fdi                 0.0\n",
       "unemployment_ilo    0.0\n",
       "life                0.0\n",
       "dtype: float64"
      ]
     },
     "execution_count": 152,
     "metadata": {},
     "output_type": "execute_result"
    }
   ],
   "source": [
    "data.isna().sum().sort_values(ascending=False) / len(data) * 100"
   ]
  },
  {
   "cell_type": "code",
   "execution_count": 153,
   "metadata": {},
   "outputs": [
    {
     "data": {
      "text/plain": [
       "trade               3\n",
       "savings             3\n",
       "manufacturing       2\n",
       "country             0\n",
       "gdp                 0\n",
       "growth              0\n",
       "fdi                 0\n",
       "unemployment_ilo    0\n",
       "life                0\n",
       "dtype: int64"
      ]
     },
     "execution_count": 153,
     "metadata": {},
     "output_type": "execute_result"
    }
   ],
   "source": [
    "data.isna().sum().sort_values(ascending=False)"
   ]
  },
  {
   "cell_type": "code",
   "execution_count": 154,
   "metadata": {},
   "outputs": [
    {
     "data": {
      "text/html": [
       "<div>\n",
       "<style scoped>\n",
       "    .dataframe tbody tr th:only-of-type {\n",
       "        vertical-align: middle;\n",
       "    }\n",
       "\n",
       "    .dataframe tbody tr th {\n",
       "        vertical-align: top;\n",
       "    }\n",
       "\n",
       "    .dataframe thead th {\n",
       "        text-align: right;\n",
       "    }\n",
       "</style>\n",
       "<table border=\"1\" class=\"dataframe\">\n",
       "  <thead>\n",
       "    <tr style=\"text-align: right;\">\n",
       "      <th></th>\n",
       "      <th>country</th>\n",
       "      <th>gdp</th>\n",
       "      <th>growth</th>\n",
       "      <th>trade</th>\n",
       "      <th>fdi</th>\n",
       "      <th>savings</th>\n",
       "      <th>unemployment_ilo</th>\n",
       "      <th>manufacturing</th>\n",
       "      <th>life</th>\n",
       "    </tr>\n",
       "  </thead>\n",
       "  <tbody>\n",
       "    <tr>\n",
       "      <th>1</th>\n",
       "      <td>Albania</td>\n",
       "      <td>5287.663694</td>\n",
       "      <td>4.276326</td>\n",
       "      <td>76.808118</td>\n",
       "      <td>7.946351</td>\n",
       "      <td>16.547233</td>\n",
       "      <td>12.300000</td>\n",
       "      <td>6.133262</td>\n",
       "      <td>78.458000</td>\n",
       "    </tr>\n",
       "    <tr>\n",
       "      <th>2</th>\n",
       "      <td>Algeria</td>\n",
       "      <td>4142.018558</td>\n",
       "      <td>-0.909246</td>\n",
       "      <td>58.065492</td>\n",
       "      <td>0.838207</td>\n",
       "      <td>40.205962</td>\n",
       "      <td>10.420000</td>\n",
       "      <td>26.549953</td>\n",
       "      <td>76.693000</td>\n",
       "    </tr>\n",
       "    <tr>\n",
       "      <th>3</th>\n",
       "      <td>Angola</td>\n",
       "      <td>3289.643995</td>\n",
       "      <td>-5.162112</td>\n",
       "      <td>66.378111</td>\n",
       "      <td>-6.369877</td>\n",
       "      <td>25.173194</td>\n",
       "      <td>7.421000</td>\n",
       "      <td>6.059469</td>\n",
       "      <td>60.782000</td>\n",
       "    </tr>\n",
       "    <tr>\n",
       "      <th>4</th>\n",
       "      <td>Argentina</td>\n",
       "      <td>11795.159390</td>\n",
       "      <td>-3.601610</td>\n",
       "      <td>30.762536</td>\n",
       "      <td>2.232532</td>\n",
       "      <td>11.405160</td>\n",
       "      <td>9.220000</td>\n",
       "      <td>14.060143</td>\n",
       "      <td>76.520000</td>\n",
       "    </tr>\n",
       "    <tr>\n",
       "      <th>5</th>\n",
       "      <td>Armenia</td>\n",
       "      <td>4220.540321</td>\n",
       "      <td>4.952231</td>\n",
       "      <td>92.473107</td>\n",
       "      <td>2.141806</td>\n",
       "      <td>15.326101</td>\n",
       "      <td>18.969999</td>\n",
       "      <td>11.271918</td>\n",
       "      <td>74.945000</td>\n",
       "    </tr>\n",
       "    <tr>\n",
       "      <th>...</th>\n",
       "      <td>...</td>\n",
       "      <td>...</td>\n",
       "      <td>...</td>\n",
       "      <td>...</td>\n",
       "      <td>...</td>\n",
       "      <td>...</td>\n",
       "      <td>...</td>\n",
       "      <td>...</td>\n",
       "      <td>...</td>\n",
       "    </tr>\n",
       "    <tr>\n",
       "      <th>120</th>\n",
       "      <td>United Kingdom</td>\n",
       "      <td>43646.951970</td>\n",
       "      <td>1.036855</td>\n",
       "      <td>62.314223</td>\n",
       "      <td>-0.863745</td>\n",
       "      <td>14.118801</td>\n",
       "      <td>4.000000</td>\n",
       "      <td>8.846982</td>\n",
       "      <td>81.256098</td>\n",
       "    </tr>\n",
       "    <tr>\n",
       "      <th>121</th>\n",
       "      <td>United States</td>\n",
       "      <td>63064.418410</td>\n",
       "      <td>2.455679</td>\n",
       "      <td>27.475481</td>\n",
       "      <td>1.039765</td>\n",
       "      <td>19.636325</td>\n",
       "      <td>3.900000</td>\n",
       "      <td>11.197704</td>\n",
       "      <td>78.639024</td>\n",
       "    </tr>\n",
       "    <tr>\n",
       "      <th>122</th>\n",
       "      <td>Uruguay</td>\n",
       "      <td>18703.860290</td>\n",
       "      <td>0.109558</td>\n",
       "      <td>47.825350</td>\n",
       "      <td>2.829091</td>\n",
       "      <td>14.410050</td>\n",
       "      <td>8.340000</td>\n",
       "      <td>10.840929</td>\n",
       "      <td>77.770000</td>\n",
       "    </tr>\n",
       "    <tr>\n",
       "      <th>123</th>\n",
       "      <td>Vietnam</td>\n",
       "      <td>2566.447487</td>\n",
       "      <td>6.016398</td>\n",
       "      <td>208.306666</td>\n",
       "      <td>6.321017</td>\n",
       "      <td>23.118204</td>\n",
       "      <td>1.160000</td>\n",
       "      <td>15.996516</td>\n",
       "      <td>75.317000</td>\n",
       "    </tr>\n",
       "    <tr>\n",
       "      <th>124</th>\n",
       "      <td>Zimbabwe</td>\n",
       "      <td>1254.642265</td>\n",
       "      <td>3.356166</td>\n",
       "      <td>69.447021</td>\n",
       "      <td>3.962704</td>\n",
       "      <td>2.358411</td>\n",
       "      <td>4.796000</td>\n",
       "      <td>7.721094</td>\n",
       "      <td>61.195000</td>\n",
       "    </tr>\n",
       "  </tbody>\n",
       "</table>\n",
       "<p>121 rows × 9 columns</p>\n",
       "</div>"
      ],
      "text/plain": [
       "            country           gdp    growth       trade       fdi    savings  \\\n",
       "1           Albania   5287.663694  4.276326   76.808118  7.946351  16.547233   \n",
       "2           Algeria   4142.018558 -0.909246   58.065492  0.838207  40.205962   \n",
       "3            Angola   3289.643995 -5.162112   66.378111 -6.369877  25.173194   \n",
       "4         Argentina  11795.159390 -3.601610   30.762536  2.232532  11.405160   \n",
       "5           Armenia   4220.540321  4.952231   92.473107  2.141806  15.326101   \n",
       "..              ...           ...       ...         ...       ...        ...   \n",
       "120  United Kingdom  43646.951970  1.036855   62.314223 -0.863745  14.118801   \n",
       "121   United States  63064.418410  2.455679   27.475481  1.039765  19.636325   \n",
       "122         Uruguay  18703.860290  0.109558   47.825350  2.829091  14.410050   \n",
       "123         Vietnam   2566.447487  6.016398  208.306666  6.321017  23.118204   \n",
       "124        Zimbabwe   1254.642265  3.356166   69.447021  3.962704   2.358411   \n",
       "\n",
       "     unemployment_ilo  manufacturing       life  \n",
       "1           12.300000       6.133262  78.458000  \n",
       "2           10.420000      26.549953  76.693000  \n",
       "3            7.421000       6.059469  60.782000  \n",
       "4            9.220000      14.060143  76.520000  \n",
       "5           18.969999      11.271918  74.945000  \n",
       "..                ...            ...        ...  \n",
       "120          4.000000       8.846982  81.256098  \n",
       "121          3.900000      11.197704  78.639024  \n",
       "122          8.340000      10.840929  77.770000  \n",
       "123          1.160000      15.996516  75.317000  \n",
       "124          4.796000       7.721094  61.195000  \n",
       "\n",
       "[121 rows x 9 columns]"
      ]
     },
     "execution_count": 154,
     "metadata": {},
     "output_type": "execute_result"
    }
   ],
   "source": [
    "data.dropna(inplace=True)\n",
    "data"
   ]
  },
  {
   "cell_type": "code",
   "execution_count": 155,
   "metadata": {},
   "outputs": [
    {
     "data": {
      "text/plain": [
       "array(['Albania', 'Algeria', 'Angola', 'Argentina', 'Armenia',\n",
       "       'Australia', 'Austria', 'Azerbaijan', 'Bahrain', 'Bangladesh',\n",
       "       'Belarus', 'Belgium', 'Belize', 'Benin', 'Bhutan', 'Bolivia',\n",
       "       'Bosnia and Herzegovina', 'Botswana', 'Brazil',\n",
       "       'Brunei Darussalam', 'Burkina Faso', 'Cabo Verde', 'Cambodia',\n",
       "       'Cameroon', 'Chile', 'China', 'Colombia', 'Costa Rica',\n",
       "       \"Cote d'Ivoire\", 'Croatia', 'Cyprus', 'Czech Republic', 'Denmark',\n",
       "       'Djibouti', 'Dominican Republic', 'Ecuador', 'Egypt, Arab Rep.',\n",
       "       'El Salvador', 'Estonia', 'Ethiopia', 'Finland', 'France',\n",
       "       'Georgia', 'Germany', 'Ghana', 'Greece', 'Guatemala', 'Guinea',\n",
       "       'Guinea-Bissau', 'Honduras', 'Hungary', 'India', 'Indonesia',\n",
       "       'Ireland', 'Israel', 'Italy', 'Jamaica', 'Japan', 'Jordan',\n",
       "       'Kazakhstan', 'Kenya', 'Korea, Rep.', 'Kuwait', 'Kyrgyz Republic',\n",
       "       'Latvia', 'Lebanon', 'Lithuania', 'Luxembourg', 'Malaysia',\n",
       "       'Malta', 'Mauritius', 'Mexico', 'Moldova', 'Mongolia',\n",
       "       'Montenegro', 'Morocco', 'Mozambique', 'Myanmar', 'Namibia',\n",
       "       'Nepal', 'Netherlands', 'Nicaragua', 'Niger', 'Nigeria', 'Norway',\n",
       "       'Oman', 'Pakistan', 'Panama', 'Paraguay', 'Peru', 'Philippines',\n",
       "       'Portugal', 'Qatar', 'Romania', 'Russian Federation', 'Rwanda',\n",
       "       'Saudi Arabia', 'Senegal', 'Sierra Leone', 'Singapore',\n",
       "       'Slovak Republic', 'Slovenia', 'South Africa', 'Spain',\n",
       "       'Sri Lanka', 'Sweden', 'Switzerland', 'Tajikistan', 'Tanzania',\n",
       "       'Thailand', 'Timor-Leste', 'Togo', 'Tunisia', 'Turkey', 'Uganda',\n",
       "       'Ukraine', 'United Kingdom', 'United States', 'Uruguay', 'Vietnam',\n",
       "       'Zimbabwe'], dtype=object)"
      ]
     },
     "execution_count": 155,
     "metadata": {},
     "output_type": "execute_result"
    }
   ],
   "source": [
    "countries = data.country.unique()\n",
    "countries"
   ]
  },
  {
   "cell_type": "markdown",
   "metadata": {},
   "source": [
    "Albania, Algeria, Angola, Argentina, Armenia, Australia, Austria, Azerbaijan, Bahrain, Bangladesh, Belarus, Belgium, Belize, Benin, Bhutan, Bolivia, Bosnia and Herzegovina, Botswana, Brazil, Brunei Darussalam, Burkina Faso, Cabo Verde, Cambodia, Cameroon, Chile, China, Colombia, Costa Rica, Cote d'Ivoire, Croatia, Cyprus, Czech Republic, Denmark, Djibouti, Dominican Republic, Ecuador, Egypt, Arab Rep., El Salvador, Estonia, Ethiopia, Finland, France, Georgia, Germany, Ghana, Greece, Guatemala, Guinea, Guinea-Bissau, Honduras, Hungary, India, Indonesia, Ireland, Israel, Italy, Jamaica, Japan, Jordan, Kazakhstan, Kenya, Korea, Rep., Kuwait, Kyrgyz Republic, Latvia, Lebanon, Lithuania, Luxembourg, Malaysia, Malta, Mauritius, Mexico, Moldova, Mongolia, Montenegro, Morocco, Mozambique, Myanmar, Namibia, Nepal, Netherlands, Nicaragua, Niger, Nigeria, Norway, Oman, Pakistan, Panama, Paraguay, Peru, Philippines, Portugal, Qatar, Romania, Russian Federation, Rwanda, Saudi Arabia, Senegal, Sierra Leone, Singapore, Slovak Republic, Slovenia, South Africa, Spain, Sri Lanka, Sweden, Switzerland, Tajikistan, Tanzania, Thailand, Timor-Leste, Togo, Tunisia, Turkey, Uganda, Ukraine, United Kingdom, United States, Uruguay, Vietnam, Zimbabwe"
   ]
  },
  {
   "cell_type": "code",
   "execution_count": 156,
   "metadata": {},
   "outputs": [
    {
     "data": {
      "text/html": [
       "<div>\n",
       "<style scoped>\n",
       "    .dataframe tbody tr th:only-of-type {\n",
       "        vertical-align: middle;\n",
       "    }\n",
       "\n",
       "    .dataframe tbody tr th {\n",
       "        vertical-align: top;\n",
       "    }\n",
       "\n",
       "    .dataframe thead th {\n",
       "        text-align: right;\n",
       "    }\n",
       "</style>\n",
       "<table border=\"1\" class=\"dataframe\">\n",
       "  <thead>\n",
       "    <tr style=\"text-align: right;\">\n",
       "      <th></th>\n",
       "      <th>country</th>\n",
       "      <th>gdp</th>\n",
       "      <th>growth</th>\n",
       "      <th>trade</th>\n",
       "      <th>fdi</th>\n",
       "      <th>savings</th>\n",
       "      <th>unemployment_ilo</th>\n",
       "      <th>manufacturing</th>\n",
       "      <th>life</th>\n",
       "      <th>log_gdp</th>\n",
       "    </tr>\n",
       "  </thead>\n",
       "  <tbody>\n",
       "    <tr>\n",
       "      <th>1</th>\n",
       "      <td>Albania</td>\n",
       "      <td>5287.663694</td>\n",
       "      <td>4.276326</td>\n",
       "      <td>76.808118</td>\n",
       "      <td>7.946351</td>\n",
       "      <td>16.547233</td>\n",
       "      <td>12.300000</td>\n",
       "      <td>6.133262</td>\n",
       "      <td>78.458000</td>\n",
       "      <td>8.573132</td>\n",
       "    </tr>\n",
       "    <tr>\n",
       "      <th>2</th>\n",
       "      <td>Algeria</td>\n",
       "      <td>4142.018558</td>\n",
       "      <td>-0.909246</td>\n",
       "      <td>58.065492</td>\n",
       "      <td>0.838207</td>\n",
       "      <td>40.205962</td>\n",
       "      <td>10.420000</td>\n",
       "      <td>26.549953</td>\n",
       "      <td>76.693000</td>\n",
       "      <td>8.328939</td>\n",
       "    </tr>\n",
       "    <tr>\n",
       "      <th>3</th>\n",
       "      <td>Angola</td>\n",
       "      <td>3289.643995</td>\n",
       "      <td>-5.162112</td>\n",
       "      <td>66.378111</td>\n",
       "      <td>-6.369877</td>\n",
       "      <td>25.173194</td>\n",
       "      <td>7.421000</td>\n",
       "      <td>6.059469</td>\n",
       "      <td>60.782000</td>\n",
       "      <td>8.098535</td>\n",
       "    </tr>\n",
       "    <tr>\n",
       "      <th>4</th>\n",
       "      <td>Argentina</td>\n",
       "      <td>11795.159390</td>\n",
       "      <td>-3.601610</td>\n",
       "      <td>30.762536</td>\n",
       "      <td>2.232532</td>\n",
       "      <td>11.405160</td>\n",
       "      <td>9.220000</td>\n",
       "      <td>14.060143</td>\n",
       "      <td>76.520000</td>\n",
       "      <td>9.375445</td>\n",
       "    </tr>\n",
       "    <tr>\n",
       "      <th>5</th>\n",
       "      <td>Armenia</td>\n",
       "      <td>4220.540321</td>\n",
       "      <td>4.952231</td>\n",
       "      <td>92.473107</td>\n",
       "      <td>2.141806</td>\n",
       "      <td>15.326101</td>\n",
       "      <td>18.969999</td>\n",
       "      <td>11.271918</td>\n",
       "      <td>74.945000</td>\n",
       "      <td>8.347718</td>\n",
       "    </tr>\n",
       "    <tr>\n",
       "      <th>...</th>\n",
       "      <td>...</td>\n",
       "      <td>...</td>\n",
       "      <td>...</td>\n",
       "      <td>...</td>\n",
       "      <td>...</td>\n",
       "      <td>...</td>\n",
       "      <td>...</td>\n",
       "      <td>...</td>\n",
       "      <td>...</td>\n",
       "      <td>...</td>\n",
       "    </tr>\n",
       "    <tr>\n",
       "      <th>120</th>\n",
       "      <td>United Kingdom</td>\n",
       "      <td>43646.951970</td>\n",
       "      <td>1.036855</td>\n",
       "      <td>62.314223</td>\n",
       "      <td>-0.863745</td>\n",
       "      <td>14.118801</td>\n",
       "      <td>4.000000</td>\n",
       "      <td>8.846982</td>\n",
       "      <td>81.256098</td>\n",
       "      <td>10.683889</td>\n",
       "    </tr>\n",
       "    <tr>\n",
       "      <th>121</th>\n",
       "      <td>United States</td>\n",
       "      <td>63064.418410</td>\n",
       "      <td>2.455679</td>\n",
       "      <td>27.475481</td>\n",
       "      <td>1.039765</td>\n",
       "      <td>19.636325</td>\n",
       "      <td>3.900000</td>\n",
       "      <td>11.197704</td>\n",
       "      <td>78.639024</td>\n",
       "      <td>11.051912</td>\n",
       "    </tr>\n",
       "    <tr>\n",
       "      <th>122</th>\n",
       "      <td>Uruguay</td>\n",
       "      <td>18703.860290</td>\n",
       "      <td>0.109558</td>\n",
       "      <td>47.825350</td>\n",
       "      <td>2.829091</td>\n",
       "      <td>14.410050</td>\n",
       "      <td>8.340000</td>\n",
       "      <td>10.840929</td>\n",
       "      <td>77.770000</td>\n",
       "      <td>9.836485</td>\n",
       "    </tr>\n",
       "    <tr>\n",
       "      <th>123</th>\n",
       "      <td>Vietnam</td>\n",
       "      <td>2566.447487</td>\n",
       "      <td>6.016398</td>\n",
       "      <td>208.306666</td>\n",
       "      <td>6.321017</td>\n",
       "      <td>23.118204</td>\n",
       "      <td>1.160000</td>\n",
       "      <td>15.996516</td>\n",
       "      <td>75.317000</td>\n",
       "      <td>7.850278</td>\n",
       "    </tr>\n",
       "    <tr>\n",
       "      <th>124</th>\n",
       "      <td>Zimbabwe</td>\n",
       "      <td>1254.642265</td>\n",
       "      <td>3.356166</td>\n",
       "      <td>69.447021</td>\n",
       "      <td>3.962704</td>\n",
       "      <td>2.358411</td>\n",
       "      <td>4.796000</td>\n",
       "      <td>7.721094</td>\n",
       "      <td>61.195000</td>\n",
       "      <td>7.134606</td>\n",
       "    </tr>\n",
       "  </tbody>\n",
       "</table>\n",
       "<p>121 rows × 10 columns</p>\n",
       "</div>"
      ],
      "text/plain": [
       "            country           gdp    growth       trade       fdi    savings  \\\n",
       "1           Albania   5287.663694  4.276326   76.808118  7.946351  16.547233   \n",
       "2           Algeria   4142.018558 -0.909246   58.065492  0.838207  40.205962   \n",
       "3            Angola   3289.643995 -5.162112   66.378111 -6.369877  25.173194   \n",
       "4         Argentina  11795.159390 -3.601610   30.762536  2.232532  11.405160   \n",
       "5           Armenia   4220.540321  4.952231   92.473107  2.141806  15.326101   \n",
       "..              ...           ...       ...         ...       ...        ...   \n",
       "120  United Kingdom  43646.951970  1.036855   62.314223 -0.863745  14.118801   \n",
       "121   United States  63064.418410  2.455679   27.475481  1.039765  19.636325   \n",
       "122         Uruguay  18703.860290  0.109558   47.825350  2.829091  14.410050   \n",
       "123         Vietnam   2566.447487  6.016398  208.306666  6.321017  23.118204   \n",
       "124        Zimbabwe   1254.642265  3.356166   69.447021  3.962704   2.358411   \n",
       "\n",
       "     unemployment_ilo  manufacturing       life    log_gdp  \n",
       "1           12.300000       6.133262  78.458000   8.573132  \n",
       "2           10.420000      26.549953  76.693000   8.328939  \n",
       "3            7.421000       6.059469  60.782000   8.098535  \n",
       "4            9.220000      14.060143  76.520000   9.375445  \n",
       "5           18.969999      11.271918  74.945000   8.347718  \n",
       "..                ...            ...        ...        ...  \n",
       "120          4.000000       8.846982  81.256098  10.683889  \n",
       "121          3.900000      11.197704  78.639024  11.051912  \n",
       "122          8.340000      10.840929  77.770000   9.836485  \n",
       "123          1.160000      15.996516  75.317000   7.850278  \n",
       "124          4.796000       7.721094  61.195000   7.134606  \n",
       "\n",
       "[121 rows x 10 columns]"
      ]
     },
     "execution_count": 156,
     "metadata": {},
     "output_type": "execute_result"
    }
   ],
   "source": [
    "data['log_gdp'] = np.log(data.gdp)\n",
    "data"
   ]
  },
  {
   "cell_type": "markdown",
   "metadata": {},
   "source": [
    "### Data Standardization"
   ]
  },
  {
   "cell_type": "code",
   "execution_count": 157,
   "metadata": {},
   "outputs": [],
   "source": [
    "scaler = StandardScaler()\n",
    "data.iloc[:, 1:] = scaler.fit_transform(data.iloc[:, 1:])"
   ]
  },
  {
   "cell_type": "code",
   "execution_count": 158,
   "metadata": {},
   "outputs": [
    {
     "data": {
      "text/html": [
       "<div>\n",
       "<style scoped>\n",
       "    .dataframe tbody tr th:only-of-type {\n",
       "        vertical-align: middle;\n",
       "    }\n",
       "\n",
       "    .dataframe tbody tr th {\n",
       "        vertical-align: top;\n",
       "    }\n",
       "\n",
       "    .dataframe thead th {\n",
       "        text-align: right;\n",
       "    }\n",
       "</style>\n",
       "<table border=\"1\" class=\"dataframe\">\n",
       "  <thead>\n",
       "    <tr style=\"text-align: right;\">\n",
       "      <th></th>\n",
       "      <th>country</th>\n",
       "      <th>gdp</th>\n",
       "      <th>growth</th>\n",
       "      <th>trade</th>\n",
       "      <th>fdi</th>\n",
       "      <th>savings</th>\n",
       "      <th>unemployment_ilo</th>\n",
       "      <th>manufacturing</th>\n",
       "      <th>life</th>\n",
       "      <th>log_gdp</th>\n",
       "    </tr>\n",
       "  </thead>\n",
       "  <tbody>\n",
       "    <tr>\n",
       "      <th>1</th>\n",
       "      <td>Albania</td>\n",
       "      <td>-0.527905</td>\n",
       "      <td>0.805912</td>\n",
       "      <td>-0.234872</td>\n",
       "      <td>0.772557</td>\n",
       "      <td>-0.667940</td>\n",
       "      <td>1.131333</td>\n",
       "      <td>-1.171224</td>\n",
       "      <td>0.652319</td>\n",
       "      <td>-0.226116</td>\n",
       "    </tr>\n",
       "    <tr>\n",
       "      <th>2</th>\n",
       "      <td>Algeria</td>\n",
       "      <td>-0.580125</td>\n",
       "      <td>-1.363242</td>\n",
       "      <td>-0.565998</td>\n",
       "      <td>-0.150587</td>\n",
       "      <td>1.772567</td>\n",
       "      <td>0.760421</td>\n",
       "      <td>2.397275</td>\n",
       "      <td>0.403205</td>\n",
       "      <td>-0.402502</td>\n",
       "    </tr>\n",
       "    <tr>\n",
       "      <th>3</th>\n",
       "      <td>Angola</td>\n",
       "      <td>-0.618978</td>\n",
       "      <td>-3.142239</td>\n",
       "      <td>-0.419139</td>\n",
       "      <td>-1.086711</td>\n",
       "      <td>0.221867</td>\n",
       "      <td>0.168737</td>\n",
       "      <td>-1.184122</td>\n",
       "      <td>-1.842495</td>\n",
       "      <td>-0.568928</td>\n",
       "    </tr>\n",
       "    <tr>\n",
       "      <th>4</th>\n",
       "      <td>Argentina</td>\n",
       "      <td>-0.231285</td>\n",
       "      <td>-2.489472</td>\n",
       "      <td>-1.048358</td>\n",
       "      <td>0.030496</td>\n",
       "      <td>-1.198369</td>\n",
       "      <td>0.523668</td>\n",
       "      <td>0.214263</td>\n",
       "      <td>0.378787</td>\n",
       "      <td>0.353412</td>\n",
       "    </tr>\n",
       "    <tr>\n",
       "      <th>5</th>\n",
       "      <td>Armenia</td>\n",
       "      <td>-0.576546</td>\n",
       "      <td>1.088647</td>\n",
       "      <td>0.041881</td>\n",
       "      <td>0.018713</td>\n",
       "      <td>-0.793906</td>\n",
       "      <td>2.447283</td>\n",
       "      <td>-0.273072</td>\n",
       "      <td>0.156490</td>\n",
       "      <td>-0.388937</td>\n",
       "    </tr>\n",
       "    <tr>\n",
       "      <th>...</th>\n",
       "      <td>...</td>\n",
       "      <td>...</td>\n",
       "      <td>...</td>\n",
       "      <td>...</td>\n",
       "      <td>...</td>\n",
       "      <td>...</td>\n",
       "      <td>...</td>\n",
       "      <td>...</td>\n",
       "      <td>...</td>\n",
       "      <td>...</td>\n",
       "    </tr>\n",
       "    <tr>\n",
       "      <th>120</th>\n",
       "      <td>United Kingdom</td>\n",
       "      <td>1.220562</td>\n",
       "      <td>-0.549177</td>\n",
       "      <td>-0.490935</td>\n",
       "      <td>-0.371622</td>\n",
       "      <td>-0.918444</td>\n",
       "      <td>-0.506205</td>\n",
       "      <td>-0.696911</td>\n",
       "      <td>1.047246</td>\n",
       "      <td>1.298531</td>\n",
       "    </tr>\n",
       "    <tr>\n",
       "      <th>121</th>\n",
       "      <td>United States</td>\n",
       "      <td>2.105636</td>\n",
       "      <td>0.044325</td>\n",
       "      <td>-1.106431</td>\n",
       "      <td>-0.124410</td>\n",
       "      <td>-0.349286</td>\n",
       "      <td>-0.525935</td>\n",
       "      <td>-0.286044</td>\n",
       "      <td>0.677869</td>\n",
       "      <td>1.564362</td>\n",
       "    </tr>\n",
       "    <tr>\n",
       "      <th>122</th>\n",
       "      <td>Uruguay</td>\n",
       "      <td>0.083623</td>\n",
       "      <td>-0.937070</td>\n",
       "      <td>-0.746910</td>\n",
       "      <td>0.107972</td>\n",
       "      <td>-0.888401</td>\n",
       "      <td>0.350050</td>\n",
       "      <td>-0.348402</td>\n",
       "      <td>0.555214</td>\n",
       "      <td>0.686432</td>\n",
       "    </tr>\n",
       "    <tr>\n",
       "      <th>123</th>\n",
       "      <td>Vietnam</td>\n",
       "      <td>-0.651942</td>\n",
       "      <td>1.533794</td>\n",
       "      <td>2.088310</td>\n",
       "      <td>0.561473</td>\n",
       "      <td>0.009886</td>\n",
       "      <td>-1.066520</td>\n",
       "      <td>0.552709</td>\n",
       "      <td>0.208994</td>\n",
       "      <td>-0.748250</td>\n",
       "    </tr>\n",
       "    <tr>\n",
       "      <th>124</th>\n",
       "      <td>Zimbabwe</td>\n",
       "      <td>-0.711736</td>\n",
       "      <td>0.421004</td>\n",
       "      <td>-0.364920</td>\n",
       "      <td>0.255196</td>\n",
       "      <td>-2.131583</td>\n",
       "      <td>-0.349160</td>\n",
       "      <td>-0.893697</td>\n",
       "      <td>-1.784204</td>\n",
       "      <td>-1.265196</td>\n",
       "    </tr>\n",
       "  </tbody>\n",
       "</table>\n",
       "<p>121 rows × 10 columns</p>\n",
       "</div>"
      ],
      "text/plain": [
       "            country       gdp    growth     trade       fdi   savings  \\\n",
       "1           Albania -0.527905  0.805912 -0.234872  0.772557 -0.667940   \n",
       "2           Algeria -0.580125 -1.363242 -0.565998 -0.150587  1.772567   \n",
       "3            Angola -0.618978 -3.142239 -0.419139 -1.086711  0.221867   \n",
       "4         Argentina -0.231285 -2.489472 -1.048358  0.030496 -1.198369   \n",
       "5           Armenia -0.576546  1.088647  0.041881  0.018713 -0.793906   \n",
       "..              ...       ...       ...       ...       ...       ...   \n",
       "120  United Kingdom  1.220562 -0.549177 -0.490935 -0.371622 -0.918444   \n",
       "121   United States  2.105636  0.044325 -1.106431 -0.124410 -0.349286   \n",
       "122         Uruguay  0.083623 -0.937070 -0.746910  0.107972 -0.888401   \n",
       "123         Vietnam -0.651942  1.533794  2.088310  0.561473  0.009886   \n",
       "124        Zimbabwe -0.711736  0.421004 -0.364920  0.255196 -2.131583   \n",
       "\n",
       "     unemployment_ilo  manufacturing      life   log_gdp  \n",
       "1            1.131333      -1.171224  0.652319 -0.226116  \n",
       "2            0.760421       2.397275  0.403205 -0.402502  \n",
       "3            0.168737      -1.184122 -1.842495 -0.568928  \n",
       "4            0.523668       0.214263  0.378787  0.353412  \n",
       "5            2.447283      -0.273072  0.156490 -0.388937  \n",
       "..                ...            ...       ...       ...  \n",
       "120         -0.506205      -0.696911  1.047246  1.298531  \n",
       "121         -0.525935      -0.286044  0.677869  1.564362  \n",
       "122          0.350050      -0.348402  0.555214  0.686432  \n",
       "123         -1.066520       0.552709  0.208994 -0.748250  \n",
       "124         -0.349160      -0.893697 -1.784204 -1.265196  \n",
       "\n",
       "[121 rows x 10 columns]"
      ]
     },
     "execution_count": 158,
     "metadata": {},
     "output_type": "execute_result"
    }
   ],
   "source": [
    "data"
   ]
  },
  {
   "cell_type": "markdown",
   "metadata": {},
   "source": [
    "### Plotting gdp vs trade"
   ]
  },
  {
   "cell_type": "code",
   "execution_count": 159,
   "metadata": {},
   "outputs": [
    {
     "data": {
      "image/png": "[encoded data removed]",
      "text/plain": [
       "<Figure size 432x288 with 1 Axes>"
      ]
     },
     "metadata": {
      "needs_background": "light"
     },
     "output_type": "display_data"
    }
   ],
   "source": [
    "plt.scatter(data.trade, data.gdp)\n",
    "plt.ylabel('gdp')\n",
    "plt.xlabel('trade')\n",
    "plt.show()"
   ]
  },
  {
   "cell_type": "code",
   "execution_count": 160,
   "metadata": {},
   "outputs": [
    {
     "data": {
      "image/png": "[encoded data removed]",
      "text/plain": [
       "<Figure size 432x288 with 1 Axes>"
      ]
     },
     "metadata": {
      "needs_background": "light"
     },
     "output_type": "display_data"
    }
   ],
   "source": [
    "plt.scatter(data.trade, data.growth)\n",
    "plt.ylabel('growth')\n",
    "plt.xlabel('trade')\n",
    "plt.show()"
   ]
  },
  {
   "cell_type": "code",
   "execution_count": 161,
   "metadata": {},
   "outputs": [
    {
     "data": {
      "image/png": "[encoded data removed]",
      "text/plain": [
       "<Figure size 432x288 with 1 Axes>"
      ]
     },
     "metadata": {
      "needs_background": "light"
     },
     "output_type": "display_data"
    }
   ],
   "source": [
    "plt.scatter(data.trade, data.log_gdp)\n",
    "plt.ylabel('log_gdp')\n",
    "plt.xlabel('trade')\n",
    "plt.show()"
   ]
  },
  {
   "cell_type": "markdown",
   "metadata": {},
   "source": [
    "## Linear Regression Model"
   ]
  },
  {
   "cell_type": "markdown",
   "metadata": {},
   "source": [
    "### Fitting the model"
   ]
  },
  {
   "cell_type": "markdown",
   "metadata": {},
   "source": [
    "Let's fit a linear regressor for the data"
   ]
  },
  {
   "cell_type": "code",
   "execution_count": 162,
   "metadata": {},
   "outputs": [
    {
     "name": "stdout",
     "output_type": "stream",
     "text": [
      "R2 Score: 0.5652516369041413\n"
     ]
    }
   ],
   "source": [
    "X1 = data.drop(['country', 'gdp', 'growth', 'log_gdp'], axis=1)\n",
    "y1 = data.gdp\n",
    "lr1 = LinearRegression().fit(X1, y1)\n",
    "print(f'R2 Score: {lr1.score(X1, y1)}')"
   ]
  },
  {
   "cell_type": "code",
   "execution_count": 191,
   "metadata": {},
   "outputs": [
    {
     "data": {
      "text/html": [
       "<table class=\"simpletable\">\n",
       "<caption>OLS Regression Results</caption>\n",
       "<tr>\n",
       "  <th>Dep. Variable:</th>           <td>gdp</td>       <th>  R-squared:         </th> <td>   0.565</td>\n",
       "</tr>\n",
       "<tr>\n",
       "  <th>Model:</th>                   <td>OLS</td>       <th>  Adj. R-squared:    </th> <td>   0.542</td>\n",
       "</tr>\n",
       "<tr>\n",
       "  <th>Method:</th>             <td>Least Squares</td>  <th>  F-statistic:       </th> <td>   24.70</td>\n",
       "</tr>\n",
       "<tr>\n",
       "  <th>Date:</th>             <td>Fri, 01 Apr 2022</td> <th>  Prob (F-statistic):</th> <td>1.35e-18</td>\n",
       "</tr>\n",
       "<tr>\n",
       "  <th>Time:</th>                 <td>17:14:51</td>     <th>  Log-Likelihood:    </th> <td> -121.30</td>\n",
       "</tr>\n",
       "<tr>\n",
       "  <th>No. Observations:</th>      <td>   121</td>      <th>  AIC:               </th> <td>   256.6</td>\n",
       "</tr>\n",
       "<tr>\n",
       "  <th>Df Residuals:</th>          <td>   114</td>      <th>  BIC:               </th> <td>   276.2</td>\n",
       "</tr>\n",
       "<tr>\n",
       "  <th>Df Model:</th>              <td>     6</td>      <th>                     </th>     <td> </td>   \n",
       "</tr>\n",
       "<tr>\n",
       "  <th>Covariance Type:</th>      <td>nonrobust</td>    <th>                     </th>     <td> </td>   \n",
       "</tr>\n",
       "</table>\n",
       "<table class=\"simpletable\">\n",
       "<tr>\n",
       "          <td></td>            <th>coef</th>     <th>std err</th>      <th>t</th>      <th>P>|t|</th>  <th>[0.025</th>    <th>0.975]</th>  \n",
       "</tr>\n",
       "<tr>\n",
       "  <th>const</th>            <td> 4.337e-17</td> <td>    0.062</td> <td> 7.02e-16</td> <td> 1.000</td> <td>   -0.122</td> <td>    0.122</td>\n",
       "</tr>\n",
       "<tr>\n",
       "  <th>trade</th>            <td>    0.2590</td> <td>    0.065</td> <td>    3.956</td> <td> 0.000</td> <td>    0.129</td> <td>    0.389</td>\n",
       "</tr>\n",
       "<tr>\n",
       "  <th>fdi</th>              <td>   -0.2125</td> <td>    0.062</td> <td>   -3.419</td> <td> 0.001</td> <td>   -0.336</td> <td>   -0.089</td>\n",
       "</tr>\n",
       "<tr>\n",
       "  <th>savings</th>          <td>    0.0963</td> <td>    0.071</td> <td>    1.360</td> <td> 0.176</td> <td>   -0.044</td> <td>    0.237</td>\n",
       "</tr>\n",
       "<tr>\n",
       "  <th>unemployment_ilo</th> <td>   -0.1449</td> <td>    0.066</td> <td>   -2.211</td> <td> 0.029</td> <td>   -0.275</td> <td>   -0.015</td>\n",
       "</tr>\n",
       "<tr>\n",
       "  <th>manufacturing</th>    <td>   -0.1382</td> <td>    0.067</td> <td>   -2.052</td> <td> 0.042</td> <td>   -0.272</td> <td>   -0.005</td>\n",
       "</tr>\n",
       "<tr>\n",
       "  <th>life</th>             <td>    0.5571</td> <td>    0.070</td> <td>    7.944</td> <td> 0.000</td> <td>    0.418</td> <td>    0.696</td>\n",
       "</tr>\n",
       "</table>\n",
       "<table class=\"simpletable\">\n",
       "<tr>\n",
       "  <th>Omnibus:</th>       <td>26.241</td> <th>  Durbin-Watson:     </th> <td>   1.830</td>\n",
       "</tr>\n",
       "<tr>\n",
       "  <th>Prob(Omnibus):</th> <td> 0.000</td> <th>  Jarque-Bera (JB):  </th> <td>  37.075</td>\n",
       "</tr>\n",
       "<tr>\n",
       "  <th>Skew:</th>          <td> 1.105</td> <th>  Prob(JB):          </th> <td>8.90e-09</td>\n",
       "</tr>\n",
       "<tr>\n",
       "  <th>Kurtosis:</th>      <td> 4.572</td> <th>  Cond. No.          </th> <td>    1.83</td>\n",
       "</tr>\n",
       "</table><br/><br/>Notes:<br/>[1] Standard Errors assume that the covariance matrix of the errors is correctly specified."
      ],
      "text/plain": [
       "<class 'statsmodels.iolib.summary.Summary'>\n",
       "\"\"\"\n",
       "                            OLS Regression Results                            \n",
       "==============================================================================\n",
       "Dep. Variable:                    gdp   R-squared:                       0.565\n",
       "Model:                            OLS   Adj. R-squared:                  0.542\n",
       "Method:                 Least Squares   F-statistic:                     24.70\n",
       "Date:                Fri, 01 Apr 2022   Prob (F-statistic):           1.35e-18\n",
       "Time:                        17:14:51   Log-Likelihood:                -121.30\n",
       "No. Observations:                 121   AIC:                             256.6\n",
       "Df Residuals:                     114   BIC:                             276.2\n",
       "Df Model:                           6                                         \n",
       "Covariance Type:            nonrobust                                         \n",
       "====================================================================================\n",
       "                       coef    std err          t      P>|t|      [0.025      0.975]\n",
       "------------------------------------------------------------------------------------\n",
       "const             4.337e-17      0.062   7.02e-16      1.000      -0.122       0.122\n",
       "trade                0.2590      0.065      3.956      0.000       0.129       0.389\n",
       "fdi                 -0.2125      0.062     -3.419      0.001      -0.336      -0.089\n",
       "savings              0.0963      0.071      1.360      0.176      -0.044       0.237\n",
       "unemployment_ilo    -0.1449      0.066     -2.211      0.029      -0.275      -0.015\n",
       "manufacturing       -0.1382      0.067     -2.052      0.042      -0.272      -0.005\n",
       "life                 0.5571      0.070      7.944      0.000       0.418       0.696\n",
       "==============================================================================\n",
       "Omnibus:                       26.241   Durbin-Watson:                   1.830\n",
       "Prob(Omnibus):                  0.000   Jarque-Bera (JB):               37.075\n",
       "Skew:                           1.105   Prob(JB):                     8.90e-09\n",
       "Kurtosis:                       4.572   Cond. No.                         1.83\n",
       "==============================================================================\n",
       "\n",
       "Notes:\n",
       "[1] Standard Errors assume that the covariance matrix of the errors is correctly specified.\n",
       "\"\"\""
      ]
     },
     "execution_count": 191,
     "metadata": {},
     "output_type": "execute_result"
    }
   ],
   "source": [
    "model1 = sm.OLS(y1, sm.add_constant(X1))\n",
    "results1 = model1.fit()\n",
    "results1.summary()"
   ]
  },
  {
   "cell_type": "code",
   "execution_count": 163,
   "metadata": {},
   "outputs": [
    {
     "name": "stdout",
     "output_type": "stream",
     "text": [
      "R2 Score: 0.09738644955477682\n"
     ]
    }
   ],
   "source": [
    "X2 = data.drop(['country', 'gdp', 'growth', 'log_gdp'], axis=1)\n",
    "y2 = data.growth\n",
    "lr2 = LinearRegression().fit(X2, y2)\n",
    "print(f'R2 Score: {lr2.score(X2, y2)}')"
   ]
  },
  {
   "cell_type": "code",
   "execution_count": 192,
   "metadata": {},
   "outputs": [
    {
     "data": {
      "text/html": [
       "<table class=\"simpletable\">\n",
       "<caption>OLS Regression Results</caption>\n",
       "<tr>\n",
       "  <th>Dep. Variable:</th>         <td>growth</td>      <th>  R-squared:         </th> <td>   0.097</td>\n",
       "</tr>\n",
       "<tr>\n",
       "  <th>Model:</th>                   <td>OLS</td>       <th>  Adj. R-squared:    </th> <td>   0.050</td>\n",
       "</tr>\n",
       "<tr>\n",
       "  <th>Method:</th>             <td>Least Squares</td>  <th>  F-statistic:       </th> <td>   2.050</td>\n",
       "</tr>\n",
       "<tr>\n",
       "  <th>Date:</th>             <td>Fri, 01 Apr 2022</td> <th>  Prob (F-statistic):</th>  <td>0.0646</td> \n",
       "</tr>\n",
       "<tr>\n",
       "  <th>Time:</th>                 <td>17:15:35</td>     <th>  Log-Likelihood:    </th> <td> -165.49</td>\n",
       "</tr>\n",
       "<tr>\n",
       "  <th>No. Observations:</th>      <td>   121</td>      <th>  AIC:               </th> <td>   345.0</td>\n",
       "</tr>\n",
       "<tr>\n",
       "  <th>Df Residuals:</th>          <td>   114</td>      <th>  BIC:               </th> <td>   364.6</td>\n",
       "</tr>\n",
       "<tr>\n",
       "  <th>Df Model:</th>              <td>     6</td>      <th>                     </th>     <td> </td>   \n",
       "</tr>\n",
       "<tr>\n",
       "  <th>Covariance Type:</th>      <td>nonrobust</td>    <th>                     </th>     <td> </td>   \n",
       "</tr>\n",
       "</table>\n",
       "<table class=\"simpletable\">\n",
       "<tr>\n",
       "          <td></td>            <th>coef</th>     <th>std err</th>      <th>t</th>      <th>P>|t|</th>  <th>[0.025</th>    <th>0.975]</th>  \n",
       "</tr>\n",
       "<tr>\n",
       "  <th>const</th>            <td>-2.559e-17</td> <td>    0.089</td> <td>-2.88e-16</td> <td> 1.000</td> <td>   -0.176</td> <td>    0.176</td>\n",
       "</tr>\n",
       "<tr>\n",
       "  <th>trade</th>            <td>    0.1896</td> <td>    0.094</td> <td>    2.010</td> <td> 0.047</td> <td>    0.003</td> <td>    0.377</td>\n",
       "</tr>\n",
       "<tr>\n",
       "  <th>fdi</th>              <td>    0.0887</td> <td>    0.090</td> <td>    0.990</td> <td> 0.324</td> <td>   -0.089</td> <td>    0.266</td>\n",
       "</tr>\n",
       "<tr>\n",
       "  <th>savings</th>          <td>    0.0185</td> <td>    0.102</td> <td>    0.181</td> <td> 0.857</td> <td>   -0.184</td> <td>    0.221</td>\n",
       "</tr>\n",
       "<tr>\n",
       "  <th>unemployment_ilo</th> <td>   -0.0247</td> <td>    0.094</td> <td>   -0.262</td> <td> 0.794</td> <td>   -0.212</td> <td>    0.162</td>\n",
       "</tr>\n",
       "<tr>\n",
       "  <th>manufacturing</th>    <td>    0.2272</td> <td>    0.097</td> <td>    2.340</td> <td> 0.021</td> <td>    0.035</td> <td>    0.420</td>\n",
       "</tr>\n",
       "<tr>\n",
       "  <th>life</th>             <td>   -0.1736</td> <td>    0.101</td> <td>   -1.718</td> <td> 0.088</td> <td>   -0.374</td> <td>    0.027</td>\n",
       "</tr>\n",
       "</table>\n",
       "<table class=\"simpletable\">\n",
       "<tr>\n",
       "  <th>Omnibus:</th>       <td>10.630</td> <th>  Durbin-Watson:     </th> <td>   2.054</td>\n",
       "</tr>\n",
       "<tr>\n",
       "  <th>Prob(Omnibus):</th> <td> 0.005</td> <th>  Jarque-Bera (JB):  </th> <td>  10.868</td>\n",
       "</tr>\n",
       "<tr>\n",
       "  <th>Skew:</th>          <td>-0.646</td> <th>  Prob(JB):          </th> <td> 0.00437</td>\n",
       "</tr>\n",
       "<tr>\n",
       "  <th>Kurtosis:</th>      <td> 3.697</td> <th>  Cond. No.          </th> <td>    1.83</td>\n",
       "</tr>\n",
       "</table><br/><br/>Notes:<br/>[1] Standard Errors assume that the covariance matrix of the errors is correctly specified."
      ],
      "text/plain": [
       "<class 'statsmodels.iolib.summary.Summary'>\n",
       "\"\"\"\n",
       "                            OLS Regression Results                            \n",
       "==============================================================================\n",
       "Dep. Variable:                 growth   R-squared:                       0.097\n",
       "Model:                            OLS   Adj. R-squared:                  0.050\n",
       "Method:                 Least Squares   F-statistic:                     2.050\n",
       "Date:                Fri, 01 Apr 2022   Prob (F-statistic):             0.0646\n",
       "Time:                        17:15:35   Log-Likelihood:                -165.49\n",
       "No. Observations:                 121   AIC:                             345.0\n",
       "Df Residuals:                     114   BIC:                             364.6\n",
       "Df Model:                           6                                         \n",
       "Covariance Type:            nonrobust                                         \n",
       "====================================================================================\n",
       "                       coef    std err          t      P>|t|      [0.025      0.975]\n",
       "------------------------------------------------------------------------------------\n",
       "const            -2.559e-17      0.089  -2.88e-16      1.000      -0.176       0.176\n",
       "trade                0.1896      0.094      2.010      0.047       0.003       0.377\n",
       "fdi                  0.0887      0.090      0.990      0.324      -0.089       0.266\n",
       "savings              0.0185      0.102      0.181      0.857      -0.184       0.221\n",
       "unemployment_ilo    -0.0247      0.094     -0.262      0.794      -0.212       0.162\n",
       "manufacturing        0.2272      0.097      2.340      0.021       0.035       0.420\n",
       "life                -0.1736      0.101     -1.718      0.088      -0.374       0.027\n",
       "==============================================================================\n",
       "Omnibus:                       10.630   Durbin-Watson:                   2.054\n",
       "Prob(Omnibus):                  0.005   Jarque-Bera (JB):               10.868\n",
       "Skew:                          -0.646   Prob(JB):                      0.00437\n",
       "Kurtosis:                       3.697   Cond. No.                         1.83\n",
       "==============================================================================\n",
       "\n",
       "Notes:\n",
       "[1] Standard Errors assume that the covariance matrix of the errors is correctly specified.\n",
       "\"\"\""
      ]
     },
     "execution_count": 192,
     "metadata": {},
     "output_type": "execute_result"
    }
   ],
   "source": [
    "model2 = sm.OLS(y2, sm.add_constant(X2))\n",
    "results2 = model2.fit()\n",
    "results2.summary()"
   ]
  },
  {
   "cell_type": "code",
   "execution_count": 164,
   "metadata": {},
   "outputs": [
    {
     "name": "stdout",
     "output_type": "stream",
     "text": [
      "R2 Score: 0.7452543946371712\n"
     ]
    }
   ],
   "source": [
    "X3 = data.drop(['country', 'gdp', 'growth', 'log_gdp'], axis=1)\n",
    "y3 = data.log_gdp\n",
    "lr3 = LinearRegression().fit(X3, y3)\n",
    "print(f'R2 Score: {lr3.score(X3, y3)}')"
   ]
  },
  {
   "cell_type": "code",
   "execution_count": 193,
   "metadata": {},
   "outputs": [
    {
     "data": {
      "text/html": [
       "<table class=\"simpletable\">\n",
       "<caption>OLS Regression Results</caption>\n",
       "<tr>\n",
       "  <th>Dep. Variable:</th>         <td>log_gdp</td>     <th>  R-squared:         </th> <td>   0.745</td>\n",
       "</tr>\n",
       "<tr>\n",
       "  <th>Model:</th>                   <td>OLS</td>       <th>  Adj. R-squared:    </th> <td>   0.732</td>\n",
       "</tr>\n",
       "<tr>\n",
       "  <th>Method:</th>             <td>Least Squares</td>  <th>  F-statistic:       </th> <td>   55.58</td>\n",
       "</tr>\n",
       "<tr>\n",
       "  <th>Date:</th>             <td>Fri, 01 Apr 2022</td> <th>  Prob (F-statistic):</th> <td>1.35e-31</td>\n",
       "</tr>\n",
       "<tr>\n",
       "  <th>Time:</th>                 <td>17:15:43</td>     <th>  Log-Likelihood:    </th> <td> -88.958</td>\n",
       "</tr>\n",
       "<tr>\n",
       "  <th>No. Observations:</th>      <td>   121</td>      <th>  AIC:               </th> <td>   191.9</td>\n",
       "</tr>\n",
       "<tr>\n",
       "  <th>Df Residuals:</th>          <td>   114</td>      <th>  BIC:               </th> <td>   211.5</td>\n",
       "</tr>\n",
       "<tr>\n",
       "  <th>Df Model:</th>              <td>     6</td>      <th>                     </th>     <td> </td>   \n",
       "</tr>\n",
       "<tr>\n",
       "  <th>Covariance Type:</th>      <td>nonrobust</td>    <th>                     </th>     <td> </td>   \n",
       "</tr>\n",
       "</table>\n",
       "<table class=\"simpletable\">\n",
       "<tr>\n",
       "          <td></td>            <th>coef</th>     <th>std err</th>      <th>t</th>      <th>P>|t|</th>  <th>[0.025</th>    <th>0.975]</th>  \n",
       "</tr>\n",
       "<tr>\n",
       "  <th>const</th>            <td>-6.037e-16</td> <td>    0.047</td> <td>-1.28e-14</td> <td> 1.000</td> <td>   -0.094</td> <td>    0.094</td>\n",
       "</tr>\n",
       "<tr>\n",
       "  <th>trade</th>            <td>    0.1150</td> <td>    0.050</td> <td>    2.294</td> <td> 0.024</td> <td>    0.016</td> <td>    0.214</td>\n",
       "</tr>\n",
       "<tr>\n",
       "  <th>fdi</th>              <td>   -0.1307</td> <td>    0.048</td> <td>   -2.747</td> <td> 0.007</td> <td>   -0.225</td> <td>   -0.036</td>\n",
       "</tr>\n",
       "<tr>\n",
       "  <th>savings</th>          <td>    0.0749</td> <td>    0.054</td> <td>    1.382</td> <td> 0.170</td> <td>   -0.032</td> <td>    0.182</td>\n",
       "</tr>\n",
       "<tr>\n",
       "  <th>unemployment_ilo</th> <td>    0.0333</td> <td>    0.050</td> <td>    0.664</td> <td> 0.508</td> <td>   -0.066</td> <td>    0.133</td>\n",
       "</tr>\n",
       "<tr>\n",
       "  <th>manufacturing</th>    <td>   -0.0475</td> <td>    0.052</td> <td>   -0.922</td> <td> 0.359</td> <td>   -0.150</td> <td>    0.055</td>\n",
       "</tr>\n",
       "<tr>\n",
       "  <th>life</th>             <td>    0.7815</td> <td>    0.054</td> <td>   14.558</td> <td> 0.000</td> <td>    0.675</td> <td>    0.888</td>\n",
       "</tr>\n",
       "</table>\n",
       "<table class=\"simpletable\">\n",
       "<tr>\n",
       "  <th>Omnibus:</th>       <td> 0.071</td> <th>  Durbin-Watson:     </th> <td>   2.073</td>\n",
       "</tr>\n",
       "<tr>\n",
       "  <th>Prob(Omnibus):</th> <td> 0.965</td> <th>  Jarque-Bera (JB):  </th> <td>   0.161</td>\n",
       "</tr>\n",
       "<tr>\n",
       "  <th>Skew:</th>          <td> 0.055</td> <th>  Prob(JB):          </th> <td>   0.923</td>\n",
       "</tr>\n",
       "<tr>\n",
       "  <th>Kurtosis:</th>      <td> 2.859</td> <th>  Cond. No.          </th> <td>    1.83</td>\n",
       "</tr>\n",
       "</table><br/><br/>Notes:<br/>[1] Standard Errors assume that the covariance matrix of the errors is correctly specified."
      ],
      "text/plain": [
       "<class 'statsmodels.iolib.summary.Summary'>\n",
       "\"\"\"\n",
       "                            OLS Regression Results                            \n",
       "==============================================================================\n",
       "Dep. Variable:                log_gdp   R-squared:                       0.745\n",
       "Model:                            OLS   Adj. R-squared:                  0.732\n",
       "Method:                 Least Squares   F-statistic:                     55.58\n",
       "Date:                Fri, 01 Apr 2022   Prob (F-statistic):           1.35e-31\n",
       "Time:                        17:15:43   Log-Likelihood:                -88.958\n",
       "No. Observations:                 121   AIC:                             191.9\n",
       "Df Residuals:                     114   BIC:                             211.5\n",
       "Df Model:                           6                                         \n",
       "Covariance Type:            nonrobust                                         \n",
       "====================================================================================\n",
       "                       coef    std err          t      P>|t|      [0.025      0.975]\n",
       "------------------------------------------------------------------------------------\n",
       "const            -6.037e-16      0.047  -1.28e-14      1.000      -0.094       0.094\n",
       "trade                0.1150      0.050      2.294      0.024       0.016       0.214\n",
       "fdi                 -0.1307      0.048     -2.747      0.007      -0.225      -0.036\n",
       "savings              0.0749      0.054      1.382      0.170      -0.032       0.182\n",
       "unemployment_ilo     0.0333      0.050      0.664      0.508      -0.066       0.133\n",
       "manufacturing       -0.0475      0.052     -0.922      0.359      -0.150       0.055\n",
       "life                 0.7815      0.054     14.558      0.000       0.675       0.888\n",
       "==============================================================================\n",
       "Omnibus:                        0.071   Durbin-Watson:                   2.073\n",
       "Prob(Omnibus):                  0.965   Jarque-Bera (JB):                0.161\n",
       "Skew:                           0.055   Prob(JB):                        0.923\n",
       "Kurtosis:                       2.859   Cond. No.                         1.83\n",
       "==============================================================================\n",
       "\n",
       "Notes:\n",
       "[1] Standard Errors assume that the covariance matrix of the errors is correctly specified.\n",
       "\"\"\""
      ]
     },
     "execution_count": 193,
     "metadata": {},
     "output_type": "execute_result"
    }
   ],
   "source": [
    "model3 = sm.OLS(y3, sm.add_constant(X3))\n",
    "results3 = model3.fit()\n",
    "results3.summary()"
   ]
  },
  {
   "cell_type": "code",
   "execution_count": 188,
   "metadata": {},
   "outputs": [],
   "source": [
    "with open('results3.txt', 'w') as f:\n",
    "    f.write(results3.summary().as_text())"
   ]
  },
  {
   "cell_type": "code",
   "execution_count": 186,
   "metadata": {},
   "outputs": [],
   "source": [
    "with open('results3.csv', 'w') as f:\n",
    "    f.write(results3.summary().as_csv())"
   ]
  },
  {
   "cell_type": "markdown",
   "metadata": {},
   "source": [
    "### Inferences"
   ]
  },
  {
   "cell_type": "markdown",
   "metadata": {},
   "source": [
    "Let's find the coefficients of the model for each year"
   ]
  },
  {
   "cell_type": "code",
   "execution_count": 165,
   "metadata": {},
   "outputs": [
    {
     "name": "stdout",
     "output_type": "stream",
     "text": [
      "coef: [ 0.25900906 -0.21249871  0.09634317 -0.14494796 -0.13824692  0.55705242] intercept: -5.692143971374136e-16\n"
     ]
    }
   ],
   "source": [
    "print(f'coef: {lr1.coef_} intercept: {lr1.intercept_}')"
   ]
  },
  {
   "cell_type": "code",
   "execution_count": 166,
   "metadata": {},
   "outputs": [
    {
     "name": "stdout",
     "output_type": "stream",
     "text": [
      "coef: [ 0.18963738  0.08869357  0.01848093 -0.02473466  0.2272113  -0.1736249 ] intercept: 2.542332370873219e-16\n"
     ]
    }
   ],
   "source": [
    "print(f'coef: {lr2.coef_} intercept: {lr2.intercept_}')"
   ]
  },
  {
   "cell_type": "code",
   "execution_count": 167,
   "metadata": {},
   "outputs": [
    {
     "name": "stdout",
     "output_type": "stream",
     "text": [
      "coef: [ 0.11497851 -0.13070553  0.07492535  0.03332636 -0.04753271  0.78145354] intercept: -1.5548253368630348e-15\n"
     ]
    }
   ],
   "source": [
    "print(f'coef: {lr3.coef_} intercept: {lr3.intercept_}')"
   ]
  },
  {
   "cell_type": "code",
   "execution_count": 171,
   "metadata": {},
   "outputs": [
    {
     "data": {
      "text/plain": [
       "Index(['trade', 'fdi', 'savings', 'unemployment_ilo', 'manufacturing', 'life'], dtype='object')"
      ]
     },
     "execution_count": 171,
     "metadata": {},
     "output_type": "execute_result"
    }
   ],
   "source": [
    "data.columns[3:-1]"
   ]
  },
  {
   "cell_type": "markdown",
   "metadata": {},
   "source": [
    "### Plotting the variables"
   ]
  },
  {
   "cell_type": "markdown",
   "metadata": {},
   "source": [
    "We will now plot the target variable with respect to each independent variable"
   ]
  },
  {
   "cell_type": "code",
   "execution_count": 168,
   "metadata": {},
   "outputs": [
    {
     "data": {
      "image/png": "[encoded data removed]",
      "text/plain": [
       "<Figure size 432x288 with 1 Axes>"
      ]
     },
     "metadata": {
      "needs_background": "light"
     },
     "output_type": "display_data"
    },
    {
     "data": {
      "image/png": "[encoded data removed]",
      "text/plain": [
       "<Figure size 432x288 with 1 Axes>"
      ]
     },
     "metadata": {
      "needs_background": "light"
     },
     "output_type": "display_data"
    },
    {
     "data": {
      "image/png": "[encoded data removed]",
      "text/plain": [
       "<Figure size 432x288 with 1 Axes>"
      ]
     },
     "metadata": {
      "needs_background": "light"
     },
     "output_type": "display_data"
    },
    {
     "data": {
      "image/png": "[encoded data removed]",
      "text/plain": [
       "<Figure size 432x288 with 1 Axes>"
      ]
     },
     "metadata": {
      "needs_background": "light"
     },
     "output_type": "display_data"
    },
    {
     "data": {
      "image/png": "[encoded data removed]",
      "text/plain": [
       "<Figure size 432x288 with 1 Axes>"
      ]
     },
     "metadata": {
      "needs_background": "light"
     },
     "output_type": "display_data"
    },
    {
     "data": {
      "image/png": "[encoded data removed]",
      "text/plain": [
       "<Figure size 432x288 with 1 Axes>"
      ]
     },
     "metadata": {
      "needs_background": "light"
     },
     "output_type": "display_data"
    }
   ],
   "source": [
    "for i, col in enumerate(data.columns[3:-1]):\n",
    "    plt.scatter(X1[col], y1)\n",
    "    y_pred = lr1.coef_[i] * X1[col] + lr1.intercept_\n",
    "    plt.plot(X1[col], y_pred)\n",
    "    # plt.title(year)\n",
    "    plt.ylabel('gdp')\n",
    "    plt.xlabel(col)\n",
    "    plt.show()"
   ]
  },
  {
   "cell_type": "code",
   "execution_count": 169,
   "metadata": {},
   "outputs": [
    {
     "data": {
      "image/png": "[encoded data removed]",
      "text/plain": [
       "<Figure size 432x288 with 1 Axes>"
      ]
     },
     "metadata": {
      "needs_background": "light"
     },
     "output_type": "display_data"
    },
    {
     "data": {
      "image/png": "[encoded data removed]",
      "text/plain": [
       "<Figure size 432x288 with 1 Axes>"
      ]
     },
     "metadata": {
      "needs_background": "light"
     },
     "output_type": "display_data"
    },
    {
     "data": {
      "image/png": "[encoded data removed]",
      "text/plain": [
       "<Figure size 432x288 with 1 Axes>"
      ]
     },
     "metadata": {
      "needs_background": "light"
     },
     "output_type": "display_data"
    },
    {
     "data": {
      "image/png": "[encoded data removed]",
      "text/plain": [
       "<Figure size 432x288 with 1 Axes>"
      ]
     },
     "metadata": {
      "needs_background": "light"
     },
     "output_type": "display_data"
    },
    {
     "data": {
      "image/png": "[encoded data removed]",
      "text/plain": [
       "<Figure size 432x288 with 1 Axes>"
      ]
     },
     "metadata": {
      "needs_background": "light"
     },
     "output_type": "display_data"
    },
    {
     "data": {
      "image/png": "[encoded data removed]",
      "text/plain": [
       "<Figure size 432x288 with 1 Axes>"
      ]
     },
     "metadata": {
      "needs_background": "light"
     },
     "output_type": "display_data"
    }
   ],
   "source": [
    "for i, col in enumerate(data.columns[3:-1]):\n",
    "    plt.scatter(X2[col], y2)\n",
    "    y_pred = lr2.coef_[i] * X2[col] + lr2.intercept_\n",
    "    plt.plot(X2[col], y_pred)\n",
    "    # plt.title(year)\n",
    "    plt.ylabel('growth')\n",
    "    plt.xlabel(col)\n",
    "    plt.show()"
   ]
  },
  {
   "cell_type": "code",
   "execution_count": 170,
   "metadata": {},
   "outputs": [
    {
     "data": {
      "image/png": "[encoded data removed]",
      "text/plain": [
       "<Figure size 432x288 with 1 Axes>"
      ]
     },
     "metadata": {
      "needs_background": "light"
     },
     "output_type": "display_data"
    },
    {
     "data": {
      "image/png": "[encoded data removed]",
      "text/plain": [
       "<Figure size 432x288 with 1 Axes>"
      ]
     },
     "metadata": {
      "needs_background": "light"
     },
     "output_type": "display_data"
    },
    {
     "data": {
      "image/png": "[encoded data removed]",
      "text/plain": [
       "<Figure size 432x288 with 1 Axes>"
      ]
     },
     "metadata": {
      "needs_background": "light"
     },
     "output_type": "display_data"
    },
    {
     "data": {
      "image/png": "[encoded data removed]",
      "text/plain": [
       "<Figure size 432x288 with 1 Axes>"
      ]
     },
     "metadata": {
      "needs_background": "light"
     },
     "output_type": "display_data"
    },
    {
     "data": {
      "image/png": "[encoded data removed]",
      "text/plain": [
       "<Figure size 432x288 with 1 Axes>"
      ]
     },
     "metadata": {
      "needs_background": "light"
     },
     "output_type": "display_data"
    },
    {
     "data": {
      "image/png": "[encoded data removed]",
      "text/plain": [
       "<Figure size 432x288 with 1 Axes>"
      ]
     },
     "metadata": {
      "needs_background": "light"
     },
     "output_type": "display_data"
    }
   ],
   "source": [
    "for i, col in enumerate(data.columns[3:-1]):\n",
    "    plt.scatter(X3[col], y3)\n",
    "    y_pred = lr3.coef_[i] * X3[col] + lr3.intercept_\n",
    "    plt.plot(X3[col], y_pred)\n",
    "    # plt.title(year)\n",
    "    plt.ylabel('growth')\n",
    "    plt.xlabel(col)\n",
    "    plt.show()"
   ]
  }
 ],
 "metadata": {
  "interpreter": {
   "hash": "a179c15d7519770d2a8d91c7fc1e2b60cad981278a013746719701be789d117e"
  },
  "kernelspec": {
   "display_name": "Python 3.9.7 ('ml')",
   "language": "python",
   "name": "python3"
  },
  "language_info": {
   "codemirror_mode": {
    "name": "ipython",
    "version": 3
   },
   "file_extension": ".py",
   "mimetype": "text/x-python",
   "name": "python",
   "nbconvert_exporter": "python",
   "pygments_lexer": "ipython3",
   "version": "3.9.7"
  },
  "orig_nbformat": 4
 },
 "nbformat": 4,
 "nbformat_minor": 2
}
